{
 "cells": [
  {
   "cell_type": "markdown",
   "metadata": {},
   "source": [
    "# Acessing and Deleting Elements\n",
    "\n",
    "## Acessing an Element\n",
    "\n",
    "There are two different types of indexing, positive indexing and negative indexing.\n",
    "\n",
    "## Positive Indexing\n",
    "\n",
    "With postive indexing, elements are referred based on their position in reference to the start of the list. Counting starts at 0, so the first item in list would be position 0.\n",
    "\n",
    "Ex: let list = [1, 2, 3, 4, 5];\n",
    "\n",
    "So in this case to reference 1 you would write list[0] and not list[1]. list 1[1] would refer to 2.\n",
    "\n",
    "\n",
    "\n",
    "\n",
    "\n",
    "\n"
   ]
  },
  {
   "cell_type": "code",
   "execution_count": 11,
   "metadata": {
    "vscode": {
     "languageId": "javascript"
    }
   },
   "outputs": [
    {
     "data": {
      "application/javascript": "\nlet list = [1, 2, 3, 4, 5];\n\nfor (let i = 0; i < list.length; i++) {\n    console.log(list[i]) };\n\nconsole.log(list[0]); // prints 1\nconsole.log(list[1]); // prints 2\nconsole.log(list[2]); // prints 3\nconsole.log(list[3]); // prints 4\nconsole.log(list[4]); // prints 5 \n",
      "text/plain": [
       "<IPython.core.display.Javascript object>"
      ]
     },
     "metadata": {},
     "output_type": "display_data"
    }
   ],
   "source": [
    "%%js\n",
    "\n",
    "let list = [1, 2, 3, 4, 5];\n",
    "\n",
    "console.log(list[0]); // prints 1\n",
    "console.log(list[1]); // prints 2\n",
    "console.log(list[2]); // prints 3\n",
    "console.log(list[3]); // prints 4\n",
    "console.log(list[4]); // prints 5 \n"
   ]
  },
  {
   "cell_type": "markdown",
   "metadata": {},
   "source": [
    "## Negative Indexing\n",
    "\n",
    "Negative indexing is like positive indexing, except you reference elements based on their position from the end of the list, instead of the start. Negative indexing also doesn't start at 0 like positive indexing, but at -1.\n",
    "\n"
   ]
  },
  {
   "cell_type": "code",
   "execution_count": 8,
   "metadata": {
    "vscode": {
     "languageId": "javascript"
    }
   },
   "outputs": [
    {
     "data": {
      "application/javascript": "\nlet list = [1, 2, 3, 4, 5];\n\nconsole.log(list[-1]); // prints 5\nconsole.log(list[-2]); // prints 4\nconsole.log(list[-3]); // prints 3\nconsole.log(list[-4]); // prints 2\nconsole.log(list[-5]); // prints 1 \n",
      "text/plain": [
       "<IPython.core.display.Javascript object>"
      ]
     },
     "metadata": {},
     "output_type": "display_data"
    }
   ],
   "source": [
    "%%js\n",
    "\n",
    "let list = [1, 2, 3, 4, 5];\n",
    "\n",
    "console.log(list[-1]); // prints 5\n",
    "console.log(list[-2]); // prints 4\n",
    "console.log(list[-3]); // prints 3\n",
    "console.log(list[-4]); // prints 2\n",
    "console.log(list[-5]); // prints 1 \n"
   ]
  },
  {
   "cell_type": "markdown",
   "metadata": {},
   "source": [
    "## Deleting an Element\n",
    "\n",
    "To delete an element in javascript, you would use pop(index). You would use indexing to delete a specfic value in the list."
   ]
  },
  {
   "cell_type": "code",
   "execution_count": 2,
   "metadata": {
    "vscode": {
     "languageId": "html"
    }
   },
   "outputs": [
    {
     "data": {
      "text/html": [
       "\n",
       "<!-- HTML output div -->\n",
       "<div id=\"forConventional\"></div>\n",
       "\n",
       "<script>\n",
       "    var names = ['1', '2', '3', '4'];\n",
       "    document.createElement[0];\n",
       "\n",
       "    // Conventional for loop with index used to access elements\n",
       "    for (let i = 0; i < names.length; i++) {\n",
       "\n",
       "        //Create a p tag for each name and add it to the forConventional div\n",
       "        const p = document.createElement('p');\n",
       "        p.innerHTML = names[i];\n",
       "        document.getElementById('forConventional').appendChild(p);\n",
       "\n",
       "    }\n",
       "</script>\n"
      ],
      "text/plain": [
       "<IPython.core.display.HTML object>"
      ]
     },
     "metadata": {},
     "output_type": "display_data"
    }
   ],
   "source": [
    "%%html\n",
    "\n",
    "<!-- HTML output div -->\n",
    "<div id=\"forConventional\"></div>\n",
    "\n",
    "<script>\n",
    "    var names = ['1', '2', '3', '4'];\n",
    "    document.createElement[0];\n",
    "\n",
    "    // Conventional for loop with index used to access elements\n",
    "    for (let i = 0; i < names.length; i++) {\n",
    "\n",
    "        //Create a p tag for each name and add it to the forConventional div\n",
    "        const p = document.createElement('p');\n",
    "        p.innerHTML = names[i];\n",
    "        document.getElementById('forConventional').appendChild(p);\n",
    "\n",
    "    }\n",
    "</script>"
   ]
  },
  {
   "cell_type": "code",
   "execution_count": null,
   "metadata": {
    "vscode": {
     "languageId": "javascript"
    }
   },
   "outputs": [],
   "source": [
    "for (let i = 0; i < list.length; i++) {\n",
    "    console.log(list[i]) };"
   ]
  }
 ],
 "metadata": {
  "kernelspec": {
   "display_name": "venv",
   "language": "python",
   "name": "python3"
  },
  "language_info": {
   "codemirror_mode": {
    "name": "ipython",
    "version": 3
   },
   "file_extension": ".py",
   "mimetype": "text/x-python",
   "name": "python",
   "nbconvert_exporter": "python",
   "pygments_lexer": "ipython3",
   "version": "3.10.12"
  }
 },
 "nbformat": 4,
 "nbformat_minor": 2
}
