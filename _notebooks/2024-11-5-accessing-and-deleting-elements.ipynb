{
 "cells": [
  {
   "cell_type": "markdown",
   "metadata": {},
   "source": [
    "### Acessing and Deleting Elements\n",
    "\n",
    "## Acessing an Element\n",
    "\n",
    "There are two different types of indexing, positive indexing and negative indexing.\n",
    "\n",
    "## Positive Indexing\n",
    "\n",
    "With postive indexing, elements are referred based on their position in reference to the start of the list. Counting starts at 0, so the first item in list would be position 0.\n",
    "\n",
    "Ex: let list = [1, 2, 3, 4, 5];\n",
    "\n",
    "\n",
    "\n",
    "\n",
    "\n",
    "\n"
   ]
  },
  {
   "cell_type": "code",
   "execution_count": 2,
   "metadata": {
    "vscode": {
     "languageId": "html"
    }
   },
   "outputs": [
    {
     "data": {
      "text/html": [
       "\n",
       "<!-- HTML output div -->\n",
       "<div id=\"forConventional\"></div>\n",
       "\n",
       "<script>\n",
       "    var names = ['1', '2', '3', '4'];\n",
       "    document.createElement[0];\n",
       "\n",
       "    // Conventional for loop with index used to access elements\n",
       "    for (let i = 0; i < names.length; i++) {\n",
       "\n",
       "        //Create a p tag for each name and add it to the forConventional div\n",
       "        const p = document.createElement('p');\n",
       "        p.innerHTML = names[i];\n",
       "        document.getElementById('forConventional').appendChild(p);\n",
       "\n",
       "    }\n",
       "</script>\n"
      ],
      "text/plain": [
       "<IPython.core.display.HTML object>"
      ]
     },
     "metadata": {},
     "output_type": "display_data"
    }
   ],
   "source": [
    "%%html\n",
    "\n",
    "<!-- HTML output div -->\n",
    "<div id=\"forConventional\"></div>\n",
    "\n",
    "<script>\n",
    "    var names = ['1', '2', '3', '4'];\n",
    "    document.createElement[0];\n",
    "\n",
    "    // Conventional for loop with index used to access elements\n",
    "    for (let i = 0; i < names.length; i++) {\n",
    "\n",
    "        //Create a p tag for each name and add it to the forConventional div\n",
    "        const p = document.createElement('p');\n",
    "        p.innerHTML = names[i];\n",
    "        document.getElementById('forConventional').appendChild(p);\n",
    "\n",
    "    }\n",
    "</script>"
   ]
  },
  {
   "cell_type": "code",
   "execution_count": 19,
   "metadata": {
    "vscode": {
     "languageId": "javascript"
    }
   },
   "outputs": [
    {
     "data": {
      "application/javascript": "\n\nlet number_list = [1, 2, 3, 4, 5];\n",
      "text/plain": [
       "<IPython.core.display.Javascript object>"
      ]
     },
     "metadata": {},
     "output_type": "display_data"
    }
   ],
   "source": [
    "%%js\n",
    "\n",
    "\n",
    "let number_list = [1, 2, 3, 4, 5];\n"
   ]
  },
  {
   "cell_type": "markdown",
   "metadata": {},
   "source": [
    "## Negative Indexing\n",
    "\n",
    "Negative indexing is similar to positive indexing except you count backwards from the end of the list.\n",
    "\n"
   ]
  }
 ],
 "metadata": {
  "kernelspec": {
   "display_name": "venv",
   "language": "python",
   "name": "python3"
  },
  "language_info": {
   "codemirror_mode": {
    "name": "ipython",
    "version": 3
   },
   "file_extension": ".py",
   "mimetype": "text/x-python",
   "name": "python",
   "nbconvert_exporter": "python",
   "pygments_lexer": "ipython3",
   "version": "3.10.12"
  }
 },
 "nbformat": 4,
 "nbformat_minor": 2
}
