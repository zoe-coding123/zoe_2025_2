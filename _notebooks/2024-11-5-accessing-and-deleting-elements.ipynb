{
 "cells": [
  {
   "cell_type": "markdown",
   "metadata": {},
   "source": [
    "# Acessing and Deleting Elements\n",
    "\n",
    "## Accessing an Element\n",
    "\n",
    "In javascript, we use a system of positive indexing to access elements. With postive indexing, elements are referred based on their position in reference to the start of the list. Counting starts at 0, so the first item in list would be position 0.\n",
    "\n",
    "Ex: let list = [1, 2, 3, 4, 5];\n",
    "\n",
    "So in this case to reference 1 you would write list[0] and not list[1]. list 1[1] would refer to 2.\n",
    "\n",
    "\n",
    "\n",
    "\n",
    "\n",
    "\n"
   ]
  },
  {
   "cell_type": "code",
   "execution_count": 11,
   "metadata": {
    "vscode": {
     "languageId": "javascript"
    }
   },
   "outputs": [
    {
     "data": {
      "application/javascript": "\nlet list = [1, 2, 3, 4, 5];\n\nfor (let i = 0; i < list.length; i++) {\n    console.log(list[i]) };\n\nconsole.log(list[0]); // prints 1\nconsole.log(list[1]); // prints 2\nconsole.log(list[2]); // prints 3\nconsole.log(list[3]); // prints 4\nconsole.log(list[4]); // prints 5 \n",
      "text/plain": [
       "<IPython.core.display.Javascript object>"
      ]
     },
     "metadata": {},
     "output_type": "display_data"
    }
   ],
   "source": [
    "%%js\n",
    "\n",
    "let list = [1, 2, 3, 4, 5];\n",
    "\n",
    "console.log(list[0]); // prints 1\n",
    "console.log(list[1]); // prints 2\n",
    "console.log(list[2]); // prints 3\n",
    "console.log(list[3]); // prints 4\n",
    "console.log(list[4]); // prints 5 \n"
   ]
  },
  {
   "cell_type": "markdown",
   "metadata": {},
   "source": [
    "## Deleting an Element\n",
    "\n",
    "To delete an element in javascript, you would use pop(index) or splice(). \n",
    "\n",
    "pop(index) - removes/deletes the last element in a list\n",
    "\n",
    "splice(position(index), # of elements your deleting) - deletes an element or elements from a specific position in the list."
   ]
  },
  {
   "cell_type": "code",
   "execution_count": null,
   "metadata": {
    "vscode": {
     "languageId": "javascript"
    }
   },
   "outputs": [
    {
     "data": {
      "application/javascript": "\nlet list = ['One', 'Two', 'Three', 'Four', 'Five'];\n\n// original list\nconsole.log(list)\n\n// deletes the last value\nlist.pop();\nconsole.log(list)\n\n// deletes the third value, Three\nlist.splice(2, 1);\n\nconsole.log(list)\n",
      "text/plain": [
       "<IPython.core.display.Javascript object>"
      ]
     },
     "metadata": {},
     "output_type": "display_data"
    }
   ],
   "source": [
    "%%js\n",
    "\n",
    "let list2 = ['One', 'Two', 'Three', 'Four', 'Five'];\n",
    "\n",
    "// original list\n",
    "console.log(list2)\n",
    "\n",
    "// deletes the last value\n",
    "list.pop();\n",
    "console.log(list2)\n",
    "\n",
    "// deletes the third value, Three\n",
    "list.splice(2, 1);\n",
    "\n",
    "console.log(list2)\n"
   ]
  },
  {
   "cell_type": "markdown",
   "metadata": {},
   "source": [
    "## Assigning Values\n",
    "\n",
    "Values can also be assigned to a list. You can have an empty list and add values to it, or you can change values in a preexisting list."
   ]
  },
  {
   "cell_type": "code",
   "execution_count": null,
   "metadata": {
    "vscode": {
     "languageId": "javascript"
    }
   },
   "outputs": [
    {
     "data": {
      "application/javascript": "\nlet list = [1, 2, 3, 4, 5]\n\n// assigns a different value to the element in position 4, changes 5 to 10\nlist[4] = 10;\nconsole.log(list)\n\nlet list3 = []\nlist3.push('I')\nlist3.push('II')\nlist3.push('III')\nconsole.log(list3.join(', '))\n",
      "text/plain": [
       "<IPython.core.display.Javascript object>"
      ]
     },
     "metadata": {},
     "output_type": "display_data"
    }
   ],
   "source": [
    "%%js\n",
    "\n",
    "let list = [1, 2, 3, 4, 5]\n",
    "\n",
    "// assigns a different value to the element in position 4, changes 5 to 10\n",
    "list[4] = 10;\n",
    "console.log(list)\n",
    "\n",
    "let list3 = []\n",
    "list3.push('I')\n",
    "list3.push('II')\n",
    "list3.push('III')\n",
    "console.log(list3)"
   ]
  },
  {
   "cell_type": "code",
   "execution_count": 2,
   "metadata": {
    "vscode": {
     "languageId": "html"
    }
   },
   "outputs": [
    {
     "data": {
      "text/html": [
       "\n",
       "<!-- HTML output div -->\n",
       "<div id=\"forConventional\"></div>\n",
       "\n",
       "<script>\n",
       "    var names = ['1', '2', '3', '4'];\n",
       "    document.createElement[0];\n",
       "\n",
       "    // Conventional for loop with index used to access elements\n",
       "    for (let i = 0; i < names.length; i++) {\n",
       "\n",
       "        //Create a p tag for each name and add it to the forConventional div\n",
       "        const p = document.createElement('p');\n",
       "        p.innerHTML = names[i];\n",
       "        document.getElementById('forConventional').appendChild(p);\n",
       "\n",
       "    }\n",
       "</script>\n"
      ],
      "text/plain": [
       "<IPython.core.display.HTML object>"
      ]
     },
     "metadata": {},
     "output_type": "display_data"
    }
   ],
   "source": [
    "%%html\n",
    "\n",
    "<!-- HTML output div -->\n",
    "<div id=\"forConventional\"></div>\n",
    "\n",
    "<script>\n",
    "    var names = ['1', '2', '3', '4'];\n",
    "    document.createElement[0];\n",
    "\n",
    "    // Conventional for loop with index used to access elements\n",
    "    for (let i = 0; i < names.length; i++) {\n",
    "\n",
    "        //Create a p tag for each name and add it to the forConventional div\n",
    "        const p = document.createElement('p');\n",
    "        p.innerHTML = names[i];\n",
    "        document.getElementById('forConventional').appendChild(p);\n",
    "\n",
    "    }\n",
    "</script>"
   ]
  },
  {
   "cell_type": "code",
   "execution_count": null,
   "metadata": {
    "vscode": {
     "languageId": "javascript"
    }
   },
   "outputs": [],
   "source": [
    "for (let i = 0; i < list.length; i++) {\n",
    "    console.log(list[i]) };"
   ]
  }
 ],
 "metadata": {
  "kernelspec": {
   "display_name": "venv",
   "language": "python",
   "name": "python3"
  },
  "language_info": {
   "codemirror_mode": {
    "name": "ipython",
    "version": 3
   },
   "file_extension": ".py",
   "mimetype": "text/x-python",
   "name": "python",
   "nbconvert_exporter": "python",
   "pygments_lexer": "ipython3",
   "version": "3.10.12"
  }
 },
 "nbformat": 4,
 "nbformat_minor": 2
}
