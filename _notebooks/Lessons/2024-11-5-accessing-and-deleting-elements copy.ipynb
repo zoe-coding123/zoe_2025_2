{
 "cells": [
  {
   "cell_type": "raw",
   "metadata": {
    "vscode": {
     "languageId": "raw"
    }
   },
   "source": [
    "---\n",
    "layout: post\n",
    "title: Accessing, Deleting, and Assigning a Value to Elements\n",
    "description: How to access elements in a list, and applying that to delete, add, and alter elements in a list. \n",
    "categories: [JavaScript]\n",
    "author: Zoe Chow\n",
    "comments: true\n",
    "---"
   ]
  },
  {
   "cell_type": "markdown",
   "metadata": {},
   "source": [
    "# Acessing and Deleting Elements\n",
    "\n",
    "## Accessing an Element\n",
    "\n",
    "In javascript, we use a system of positive indexing to access elements. With postive indexing, elements are referred based on their position in reference to the start of the list. Counting starts at 0, so the first item in list would be position 0.\n",
    "\n",
    "Ex: let list = [1, 2, 3, 4, 5];\n",
    "\n",
    "So in this case to reference 1 you would write list[0] and not list[1]. list 1[1] would refer to 2.\n",
    "\n",
    "\n",
    "\n",
    "\n",
    "\n",
    "\n"
   ]
  },
  {
   "cell_type": "code",
   "execution_count": null,
   "metadata": {
    "vscode": {
     "languageId": "javascript"
    }
   },
   "outputs": [],
   "source": [
    "%%js\n",
    "\n",
    "let list = [1, 2, 3, 4, 5];\n",
    "\n",
    "console.log(list[0]); // prints 1\n",
    "console.log(list[1]); // prints 2\n",
    "console.log(list[2]); // prints 3\n",
    "console.log(list[3]); // prints 4\n",
    "console.log(list[4]); // prints 5 \n"
   ]
  },
  {
   "cell_type": "markdown",
   "metadata": {},
   "source": [
    "## Deleting an Element\n",
    "\n",
    "To delete an element in javascript, you would use pop(index) or splice(). \n",
    "\n",
    "pop(index) - removes/deletes the last element in a list\n",
    "\n",
    "splice(position(index), # of elements your deleting) - deletes an element or elements from a specific position in the list."
   ]
  },
  {
   "cell_type": "code",
   "execution_count": null,
   "metadata": {
    "vscode": {
     "languageId": "javascript"
    }
   },
   "outputs": [],
   "source": [
    "%%js\n",
    "\n",
    "let list2 = ['One', 'Two', 'Three', 'Four', 'Five'];\n",
    "\n",
    "// original list\n",
    "console.log(list2)\n",
    "\n",
    "// deletes the last value\n",
    "list.pop();\n",
    "console.log(list2)\n",
    "\n",
    "// deletes the third value, Three\n",
    "list.splice(2, 1);\n",
    "\n",
    "console.log(list2)\n"
   ]
  },
  {
   "cell_type": "markdown",
   "metadata": {},
   "source": [
    "Example of deleting multiple elements with splice."
   ]
  },
  {
   "cell_type": "code",
   "execution_count": null,
   "metadata": {
    "vscode": {
     "languageId": "javascript"
    }
   },
   "outputs": [],
   "source": [
    "%%js\n",
    "\n",
    "let exList = ['This', 'is', 'another', 'example']\n",
    "\n",
    "exList.splice(1, 2)\n",
    "console.log(exList)\n",
    "\n",
    "\n"
   ]
  },
  {
   "cell_type": "markdown",
   "metadata": {},
   "source": [
    "## Assigning Values\n",
    "\n",
    "Values can also be assigned to a list. You can have an empty list and add values to it, or you can change values in a preexisting list."
   ]
  },
  {
   "cell_type": "code",
   "execution_count": null,
   "metadata": {
    "vscode": {
     "languageId": "javascript"
    }
   },
   "outputs": [],
   "source": [
    "%%js\n",
    "\n",
    "let list = [1, 2, 3, 4, 5]\n",
    "\n",
    "// assigns a different value to the element in position 4, changes 5 to 10\n",
    "list[4] = 10;\n",
    "console.log(list)\n",
    "\n",
    "let list3 = []\n",
    "list3.push('I')\n",
    "list3.push('II')\n",
    "list3.push('III')\n",
    "console.log(list3)"
   ]
  },
  {
   "cell_type": "code",
   "execution_count": null,
   "metadata": {
    "vscode": {
     "languageId": "javascript"
    }
   },
   "outputs": [],
   "source": [
    "%%js\n",
    "\n",
    "let desserts = ['cake', 'ice cream', 'cookies']\n",
    "\n"
   ]
  },
  {
   "cell_type": "code",
   "execution_count": 33,
   "metadata": {
    "vscode": {
     "languageId": "html"
    }
   },
   "outputs": [
    {
     "data": {
      "text/html": [
       "<!-- Simple container -->\n",
       "<div id=\"testContainer\"></div>\n",
       "\n",
       "<script>\n",
       "    // Create a single <p> tag and append it to the container\n",
       "    let p = document.createElement('p');\n",
       "    p.innerHTML = 'This is a test.';\n",
       "    document.getElementById('testContainer').appendChild(p);\n",
       "</script>\n",
       "\n"
      ],
      "text/plain": [
       "<IPython.core.display.HTML object>"
      ]
     },
     "metadata": {},
     "output_type": "display_data"
    }
   ],
   "source": [
    "%%html\n",
    "<!-- Simple container -->\n",
    "<div id=\"testContainer\"></div>\n",
    "\n",
    "<script>\n",
    "    // Create a single <p> tag and append it to the container\n",
    "    let p = document.createElement('p');\n",
    "    p.innerHTML = 'This is a test.';\n",
    "    document.getElementById('testContainer').appendChild(p);\n",
    "</script>\n",
    "\n"
   ]
  },
  {
   "cell_type": "code",
   "execution_count": 4,
   "metadata": {
    "vscode": {
     "languageId": "html"
    }
   },
   "outputs": [
    {
     "data": {
      "text/html": [
       "<!-- A container to display the list -->\n",
       "<div id=\"listContainer\"></div>\n",
       "\n",
       "<script>\n",
       "    // Wait until the window is fully loaded\n",
       "    window.onload = function () {\n",
       "        let exList = ['A', 'B', 'C', 'D'];\n",
       "\n",
       "        // Find the container where we will display the list\n",
       "        let listContainer = document.getElementById('listContainer');\n",
       "\n",
       "        // Loop through the exList and create a <p> tag for each element\n",
       "        for (let i = 0; i < exList.length; i++) {\n",
       "            // Create a new <p> tag\n",
       "            const p = document.createElement('p');\n",
       "            \n",
       "            // Set the content of the <p> tag to the current item in the list\n",
       "            p.innerHTML = exList[i];\n",
       "            \n",
       "            // Append the <p> tag to the listContainer\n",
       "            listContainer.appendChild(p);\n",
       "        }\n",
       "    };\n",
       "</script>\n",
       "\n"
      ],
      "text/plain": [
       "<IPython.core.display.HTML object>"
      ]
     },
     "metadata": {},
     "output_type": "display_data"
    }
   ],
   "source": [
    "%%html\n",
    "<!-- A container to display the list -->\n",
    "<div id=\"listContainer\"></div>\n",
    "\n",
    "<script>\n",
    "    // Wait until the window is fully loaded\n",
    "    window.onload = function () {\n",
    "        let exList = ['A', 'B', 'C', 'D'];\n",
    "\n",
    "        // Find the container where we will display the list\n",
    "        let listContainer = document.getElementById('listContainer');\n",
    "\n",
    "        // Loop through the exList and create a <p> tag for each element\n",
    "        for (let i = 0; i < exList.length; i++) {\n",
    "            // Create a new <p> tag\n",
    "            const p = document.createElement('p');\n",
    "            \n",
    "            // Set the content of the <p> tag to the current item in the list\n",
    "            p.innerHTML = exList[i];\n",
    "            \n",
    "            // Append the <p> tag to the listContainer\n",
    "            listContainer.appendChild(p);\n",
    "        }\n",
    "    };\n",
    "</script>\n",
    "\n"
   ]
  }
 ],
 "metadata": {
  "kernelspec": {
   "display_name": "venv",
   "language": "python",
   "name": "python3"
  },
  "language_info": {
   "codemirror_mode": {
    "name": "ipython",
    "version": 3
   },
   "file_extension": ".py",
   "mimetype": "text/x-python",
   "name": "python",
   "nbconvert_exporter": "python",
   "pygments_lexer": "ipython3",
   "version": "3.10.12"
  }
 },
 "nbformat": 4,
 "nbformat_minor": 2
}
