{
 "cells": [
  {
   "cell_type": "code",
   "execution_count": null,
   "metadata": {},
   "outputs": [],
   "source": [
    "---\n",
    "comments: True\n",
    "layout: post \n",
    "title: Data Abstraction Hacks\n",
    "description: An intro to data abstraction\n",
    "permalink: /csse/javascript/fundamentals/data-abstraction-hacks\n",
    "type: ccc\n",
    "author: Veera Kalakota, Santhosh Karthik, Akhil Kulkarni\n",
    "---"
   ]
  },
  {
   "cell_type": "markdown",
   "metadata": {},
   "source": [
    "# Popcorn Hack #1\n",
    "Create a child class of the class **Appliance**, and call it's name() function"
   ]
  },
  {
   "cell_type": "code",
   "execution_count": 1,
   "metadata": {
    "vscode": {
     "languageId": "javascript"
    }
   },
   "outputs": [
    {
     "data": {
      "application/javascript": "    class Appliance {\n        constructor(name) {\n            this.name = name;\n        }\n        name() {\n            return \"I am a \" + this.constructor.name + \" and my model is \" + this.name;\n        }\n    }\n    // Below this name the class and cause it to inherit from the Appliance class\n    class Toaster extends Appliance {\n        constructor(toaster) {\n            super(toaster);\n            this.toaster = toaster;\n    }\n      \n}\n\n",
      "text/plain": [
       "<IPython.core.display.Javascript object>"
      ]
     },
     "metadata": {},
     "output_type": "display_data"
    }
   ],
   "source": [
    "%%js \n",
    "    class Appliance {\n",
    "        constructor(name) {\n",
    "            this.name = name;\n",
    "        }\n",
    "        name() {\n",
    "            return \"I am a \" + this.constructor.name + \" and my model is \" + this.name;\n",
    "        }\n",
    "    }\n",
    "    // Below this name the class and cause it to inherit from the Appliance class\n",
    "    class Toaster extends Appliance {\n",
    "        constructor(toaster) {\n",
    "            super(toaster);\n",
    "            this.toaster = toaster;\n",
    "    }\n",
    "      \n",
    "}\n",
    "\n"
   ]
  },
  {
   "cell_type": "markdown",
   "metadata": {},
   "source": [
    "### Popcorn Hack #2\n",
    "Create child classes of the product class with items, and add parameters depending on what it is. An example is provided of a bagel."
   ]
  },
  {
   "cell_type": "code",
   "execution_count": 12,
   "metadata": {
    "vscode": {
     "languageId": "javascript"
    }
   },
   "outputs": [
    {
     "data": {
      "application/javascript": "    class Product{\n        constructor(price,size,taxRate) {\n            this.price = price;\n            this.size = size;\n            this.taxRate = taxRate;\n        }   \n        getPrice() {\n            return this.price + this.taxRate * this.price;\n        }\n        product(){\n            const className = this.constructor.name.toLowerCase();\n            return \"You are ordering a \" + className + \" with a price of \" + this.getPrice() + \" dollars, a size of \" + this.size;\n        }\n    }\n    class Bagel extends Product{\n        constructor(price, size, taxRate, flavor) {\n            super(price, size, taxRate);\n            this.flavor = flavor;\n        }\n        getPrice(){\n            return super.getPrice() * this.size;\n        }\n        product(){\n            return super.product() + \" and a flavor of \" + this.flavor;\n        }\n    }\n    class Juice extends Product{\n        constructor(price, size, taxRate, flavor) {\n            super(price, size, taxRate);\n            this.flavor = flavor;\n        }\n        getPrice(){\n            return super.getPrice() * this.size;\n        }\n        product(){\n            return super.product() + \" and a flavor of \" + this.flavor;\n        }\n    }\nvar sesameBagel = new Bagel(1.5, 2, 0.07, \"sesame\");\nvar orangeJuice = new Juice(0.75, 1, 0.10, \"orange\");\nconsole.log(sesameBagel.product());\nconsole.log(orangeJuice.product());\n",
      "text/plain": [
       "<IPython.core.display.Javascript object>"
      ]
     },
     "metadata": {},
     "output_type": "display_data"
    }
   ],
   "source": [
    "%%js\n",
    "    class Product{\n",
    "        constructor(price,size,taxRate) {\n",
    "            this.price = price;\n",
    "            this.size = size;\n",
    "            this.taxRate = taxRate;\n",
    "        }   \n",
    "        getPrice() {\n",
    "            return this.price + this.taxRate * this.price;\n",
    "        }\n",
    "        product(){\n",
    "            const className = this.constructor.name.toLowerCase();\n",
    "            return \"You are ordering a \" + className + \" with a price of \" + this.getPrice() + \" dollars, a size of \" + this.size;\n",
    "        }\n",
    "    }\n",
    "    class Bagel extends Product{\n",
    "        constructor(price, size, taxRate, flavor) {\n",
    "            super(price, size, taxRate);\n",
    "            this.flavor = flavor;\n",
    "        }\n",
    "        getPrice(){\n",
    "            return super.getPrice() * this.size;\n",
    "        }\n",
    "        product(){\n",
    "            return super.product() + \" and a flavor of \" + this.flavor;\n",
    "        }\n",
    "    }\n",
    "    class Juice extends Product{\n",
    "        constructor(price, size, taxRate, flavor) {\n",
    "            super(price, size, taxRate);\n",
    "            this.flavor = flavor;\n",
    "        }\n",
    "        getPrice(){\n",
    "            return super.getPrice() * this.size;\n",
    "        }\n",
    "        product(){\n",
    "            return super.product() + \" and a flavor of \" + this.flavor;\n",
    "        }\n",
    "    }\n",
    "var sesameBagel = new Bagel(1.5, 2, 0.07, \"sesame\");\n",
    "var orangeJuice = new Juice(0.75, 1, 0.10, \"orange\");\n",
    "console.log(sesameBagel.product());\n",
    "console.log(orangeJuice.product());"
   ]
  },
  {
   "cell_type": "code",
   "execution_count": null,
   "metadata": {
    "vscode": {
     "languageId": "javascript"
    }
   },
   "outputs": [],
   "source": []
  }
 ],
 "metadata": {
  "kernelspec": {
   "display_name": "venv",
   "language": "python",
   "name": "python3"
  },
  "language_info": {
   "codemirror_mode": {
    "name": "ipython",
    "version": 3
   },
   "file_extension": ".py",
   "mimetype": "text/x-python",
   "name": "python",
   "nbconvert_exporter": "python",
   "pygments_lexer": "ipython3",
   "version": "3.10.12"
  }
 },
 "nbformat": 4,
 "nbformat_minor": 2
}
