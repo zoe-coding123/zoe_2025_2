{
 "cells": [
  {
   "cell_type": "raw",
   "metadata": {
    "vscode": {
     "languageId": "raw"
    }
   },
   "source": [
    "---\n",
    "comments: true\n",
    "layout: post\n",
    "title: JavaScript Data Types and Operators\n",
    "description: Learn about the different data types in JavaScript.\n",
    "permalink: /csse/javascript/fundamentals/data-types/\n",
    "categories: [JavaScript Fundamentals]\n",
    "courses: { csse: {week: 6} }\n",
    "type: ccc\n",
    "---"
   ]
  },
  {
   "cell_type": "markdown",
   "metadata": {},
   "source": [
    "### Primitive Data Types\n",
    "\n",
    "In game development, understanding the different data types in JavaScript is crucial for managing the various elements and attributes of your game. Primitive data types include numbers, strings, booleans, undefined, null, symbols, and BigInts. Reference data types include objects, arrays, and functions. Each type plays a unique role in creating a dynamic and interactive gaming experience.\n",
    "\n",
    "1. **Number**:\n",
    "   - Represents numerical values, health and timeInMilliSeconds\n",
    "\n",
    "2. **String**:\n",
    "   - Represents text, such as the user's name or keypress.\n",
    "\n",
    "3. **Boolean**:\n",
    "   - Represents true/false values, such as isAlive.\n",
    "\n",
    "4. **Undefined**:\n",
    "   - Represents a variable that has been declared but not yet assigned a value.\n",
    "\n",
    "5. **Null**:\n",
    "   - Represents the intentional absence of any object value, such as an empty inventory slot.\n",
    "\n",
    "6. **Symbol**:\n",
    "   - Represents a unique and immutable value, often used as unique identifiers for game objects.\n",
    "\n",
    "7. **BigInt**:\n",
    "   - Represents very large integers, such as the total number of points accumulated over many games.\n",
    "\n",
    "### Reference Data Types\n",
    "\n",
    "1. **Object**:\n",
    "   - Represents a collection of key-value pairs, such as a player's attributes or game settings.\n",
    "\n",
    "2. **Array**:\n",
    "   - Represents an ordered collection of values, such as a list of high scores or inventory items.\n",
    "\n",
    "3. **Function**:\n",
    "   - Represents a block of code designed to perform a specific task, such as attacking an enemy or saving the game."
   ]
  },
  {
   "cell_type": "code",
   "execution_count": null,
   "metadata": {
    "vscode": {
     "languageId": "javascript"
    }
   },
   "outputs": [
    {
     "data": {
      "application/javascript": "\n/* Primitive Data Types\nThese are data types that store a single value.\n*/\n\n// Number: Represents numerical values, such as health and speed\nlet health = 100; // Integer\nlet playerSpeed = 5.75; // Float representing the player's speed\n\nconsole.log(\"Health (Number):\", health, \"Type:\", typeof health);\nconsole.log(\"Player Speed (Number):\", playerSpeed, \"Type:\", typeof playerSpeed);\n\n// String: Represents text, such as the user's name or keypress\nlet userName = \"Hero123\"; // User name\nlet keyPress = 'a'; // Keypress\n\nconsole.log(\"User Name (String):\", userName, \"Type:\", typeof userName);\nconsole.log(\"Key Press (String):\", keyPress, \"Type:\", typeof keyPress);\n\n// Compare single character to its ASCII value\nlet asciiValue = keyPress.charCodeAt(0);\nconsole.log(\"ASCII Value of Key Press:\", asciiValue, \"Type:\", typeof asciiValue);\nconsole.log(\"Is Key Press 'a' (ASCII 97)?\", asciiValue === 97);\n\n// Boolean: Represents true/false values, such as isAlive\nlet isAlive = true;\n\nconsole.log(\"Is Alive (Boolean):\", isAlive, \"Type:\", typeof isAlive);\n\n// Undefined: Represents a variable that has been declared but not yet assigned a value\nlet questReward;\n\nconsole.log(\"Quest Reward (Undefined):\", questReward, \"Type:\", typeof questReward);\n\n// Null: Represents the intentional absence of any object value, such as an empty inventory slot\nlet inventorySlot = null;\n\nconsole.log(\"Inventory Slot (Null):\", inventorySlot, \"Type:\", typeof inventorySlot);\n\n// Symbol: Represents a unique and immutable value, often used as unique identifiers for game objects\nlet uniqueID = Symbol('playerID');\n\nconsole.log(\"Unique ID (Symbol):\", uniqueID, \"Type:\", typeof uniqueID);\n\n// BigInt: Represents very large integers, such as the total time played in milliseconds\nlet totalTimePlayed = 1234567890123456789012345678901234567890n;\n\nconsole.log(\"Total Time Played (BigInt):\", totalTimePlayed, \"Type:\", typeof totalTimePlayed);\n\n/* Reference Data Types\nThese are data types that store references to memory locations.\n*/\n\n// Object: Represents a collection of key-value pairs, such as player attributes or game settings\nlet playerAttributes = {\n  name: \"Hero123\",\n  health: 100,\n  mana: 50\n};\n\nconsole.log(\"Player Attributes (Object):\", playerAttributes, \"Type:\", typeof playerAttributes);\n\n// Array: Represents an ordered collection of values, such as a list of high scores or inventory items\nlet highScores = [1500, 1200, 900, 600, 300];\n\nconsole.log(\"High Scores (Array):\", highScores, \"Type:\", typeof highScores);\nconsole.log(\"1st index:\", highScores[0]);\nconsole.log(\"Last index:\", highScores[highScores.length - 1]);\n\n// Function: Represents a block of code designed to perform a specific task, such as attacking an enemy or saving the game\nfunction attackEnemy() {\n  console.log(\"Enemy attacked!\");\n}\n\nconsole.log(\"Attack Enemy (Function):\", attackEnemy, \"Type:\", typeof attackEnemy);\nattackEnemy();\nattackEnemy();\n",
      "text/plain": [
       "<IPython.core.display.Javascript object>"
      ]
     },
     "metadata": {},
     "output_type": "display_data"
    }
   ],
   "source": [
    "%%js\n",
    "\n",
    "/* Primitive Data Types\n",
    "These are data types that store a single value.\n",
    "*/\n",
    "\n",
    "// Number: Represents numerical values, such as health and speed\n",
    "let health = 100; // Integer\n",
    "let playerSpeed = 5.75; // Float representing the player's speed\n",
    "\n",
    "console.log(\"Health (Number):\", health, \"Type:\", typeof health);\n",
    "console.log(\"Player Speed (Number):\", playerSpeed, \"Type:\", typeof playerSpeed);\n",
    "\n",
    "// String: Represents text, such as the user's name or keypress\n",
    "let userName = \"Hero123\"; // User name\n",
    "let keyPress = 'a'; // Keypress\n",
    "\n",
    "console.log(\"User Name (String):\", userName, \"Type:\", typeof userName);\n",
    "console.log(\"Key Press (String):\", keyPress, \"Type:\", typeof keyPress);\n",
    "\n",
    "// Compare single character to its ASCII value\n",
    "let asciiValue = keyPress.charCodeAt(0);\n",
    "console.log(\"ASCII Value of Key Press:\", asciiValue, \"Type:\", typeof asciiValue);\n",
    "console.log(\"Is Key Press 'a' (ASCII 97)?\", asciiValue === 97);\n",
    "\n",
    "// Boolean: Represents true/false values, such as isAlive\n",
    "let isAlive = true;\n",
    "\n",
    "console.log(\"Is Alive (Boolean):\", isAlive, \"Type:\", typeof isAlive);\n",
    "\n",
    "// Undefined: Represents a variable that has been declared but not yet assigned a value\n",
    "let questReward;\n",
    "\n",
    "console.log(\"Quest Reward (Undefined):\", questReward, \"Type:\", typeof questReward);\n",
    "\n",
    "// Null: Represents the intentional absence of any object value, such as an empty inventory slot\n",
    "let inventorySlot = null;\n",
    "\n",
    "console.log(\"Inventory Slot (Null):\", inventorySlot, \"Type:\", typeof inventorySlot);\n",
    "\n",
    "// Symbol: Represents a unique and immutable value, often used as unique identifiers for game objects\n",
    "let uniqueID = Symbol('playerID');\n",
    "\n",
    "console.log(\"Unique ID (Symbol):\", uniqueID, \"Type:\", typeof uniqueID);\n",
    "\n",
    "// BigInt: Represents very large integers, such as the total time played in milliseconds\n",
    "let totalTimePlayed = 1234567890123456789012345678901234567890n;\n",
    "\n",
    "console.log(\"Total Time Played (BigInt):\", totalTimePlayed, \"Type:\", typeof totalTimePlayed);\n",
    "\n",
    "/* Reference Data Types\n",
    "These are data types that store references to memory locations.\n",
    "*/\n",
    "\n",
    "// Object: Represents a collection of key-value pairs, such as player attributes or game settings\n",
    "let playerAttributes = {\n",
    "  name: \"Hero123\",\n",
    "  health: 100,\n",
    "  mana: 50\n",
    "};\n",
    "\n",
    "console.log(\"Player Attributes (Object):\", playerAttributes, \"Type:\", typeof playerAttributes);\n",
    "\n",
    "// Array: Represents an ordered collection of values, such as a list of high scores or inventory items\n",
    "let highScores = [1500, 1200, 900, 600, 300];\n",
    "\n",
    "console.log(\"High Scores (Array):\", highScores, \"Type:\", typeof highScores);\n",
    "console.log(\"1st index:\", highScores[0]);\n",
    "console.log(\"Last index:\", highScores[highScores.length - 1]);\n",
    "\n",
    "// Function: Represents a block of code designed to perform a specific task, such as attacking an enemy or saving the game\n",
    "function attackEnemy() {\n",
    "  console.log(\"Enemy attacked!\");\n",
    "}\n",
    "\n",
    "console.log(\"Attack Enemy (Function):\", attackEnemy, \"Type:\", typeof attackEnemy);\n",
    "attackEnemy();\n",
    "attackEnemy();"
   ]
  },
  {
   "cell_type": "markdown",
   "metadata": {},
   "source": [
    "### Data Type Operations\n",
    "\n",
    "In JavaScript, we will be interacting with data and data types. Data types have operators that allow you to alter the data types.\n",
    "\n",
    "### Assignment Operators and Math Operators\n",
    "\n",
    "In this example height is being assigned the value of a calculation in relation to conventional screen sizes. These operators are straight forward (`=`, `+`, `-`, `*`, `/`)\n",
    "\n",
    "```js\n",
    "let width = 1920;\n",
    "let height = Math.round(width * 9 / 16);\n",
    "```\n",
    "\n",
    "### Compound Assignment\n",
    "\n",
    "These are shorthand for common operations and are specified as follows. Here is an example of one compound assignment. Make a code cell and try some more (`+=`, `*=`, `-=`, `\\=`)\n",
    "\n",
    "```js\n",
    "let number = 100;\n",
    "number += 1;  // short for number = number + 1;\n",
    "```\n",
    "\n",
    "### Concatenation\n",
    "\n",
    "Concatenation is used to join two or more elements together. This is the same as the plus (`+`) operator. It looks like math, but once a string gets involved, it turns into concatenation.\n",
    "\n",
    "```js\n",
    "// Simple concatenation\n",
    "let blockSize = 50;\n",
    "block.style.width = blockSize + \"px\";\n",
    "```\n",
    "\n",
    "```js\n",
    "/// Math at first and then concatenation following PEMDAS\n",
    "block.style.height = blockSize * 9 / 16 + \"px\";\n",
    "```"
   ]
  },
  {
   "cell_type": "markdown",
   "metadata": {},
   "source": [
    "### Popcorn Hack 1\n",
    "\n",
    "Make a code cell that show usage of compound assignment in a Data Type Operations."
   ]
  },
  {
   "cell_type": "code",
   "execution_count": 12,
   "metadata": {
    "vscode": {
     "languageId": "javascript"
    }
   },
   "outputs": [
    {
     "data": {
      "application/javascript": "\nlet healthBar = 10\nlet healing = healthBar += 2;\n\nconsole.log(\"healthBar:\", healthBar, \"Type:\", typeof healthBar);\nconsole.log(\"healing:\", healing, \"Type:\", typeof healing );\n",
      "text/plain": [
       "<IPython.core.display.Javascript object>"
      ]
     },
     "metadata": {},
     "output_type": "display_data"
    }
   ],
   "source": [
    "%%js\n",
    "\n",
    "let healthBar = 10\n",
    "let healing = healthBar += 2;\n",
    "\n",
    "console.log(\"healthBar:\", healthBar, \"Type:\", typeof healthBar);\n",
    "console.log(\"healing:\", healing, \"Type:\", typeof healing );\n"
   ]
  },
  {
   "cell_type": "markdown",
   "metadata": {},
   "source": [
    "## Scale a Block\n",
    "\n",
    "Scalling is an important Math operation that is used in Gaming.  This example is considering HD formats to construct a block."
   ]
  },
  {
   "cell_type": "code",
   "execution_count": 5,
   "metadata": {
    "vscode": {
     "languageId": "html"
    }
   },
   "outputs": [
    {
     "data": {
      "text/html": [
       "\n",
       "<p>This example uses data types, operators, and functions to scale a block based on a user-defined width.</p>\n",
       "\n",
       "<!-- Input definitions -->\n",
       "<div>\n",
       "  <label for=\"width\">Enter side length:</label>\n",
       "  <input type=\"number\" id=\"width\" name=\"width\" min=\"1\" max=\"1000000\" step=\"1\" value=\"1\">\n",
       "  <button onclick=\"submitScale()\">Submit</button>\n",
       "</div>\n",
       "\n",
       "<!-- Document Object Model (DOM) output locations -->\n",
       "<div id=\"output\"></div>\n",
       "<div id=\"error\"></div>\n",
       "\n",
       "<!-- Block display -->\n",
       "<div id=\"block\" style=\"width: 64px; height: 64px; background-color: rgb(183, 0, 255);\"></div>\n",
       "\n",
       "<script>\n",
       "\n",
       "  // Function to validate and output the scale value\n",
       "  function submitScale() {\n",
       "    const BLOCK_SCALE_DIVISOR = 20;\n",
       "    const ASPECT_RATIO = 9 / 16;\n",
       "    let block = document.getElementById('block');\n",
       "    let width = parseInt(document.getElementById('width').value);\n",
       "    \n",
       "    // Restrict sizes to common HD resolutions\n",
       "    if (width>=0 && width<=1000000) {\n",
       "      // Calculate height based on 16:9 aspect ratio\n",
       "      let height = width;\n",
       "      \n",
       "      // Calculate block size as 1/20th of the scale dimensions\n",
       "      let blockSize = Math.min(width, height) / BLOCK_SCALE_DIVISOR;\n",
       "      \n",
       "      // Set/clear error messages when the value is valid\n",
       "      document.getElementById('error').innerHTML = \"\";\n",
       "      // Output the scale value to the console\n",
       "      document.getElementById('output').innerHTML = \"Scale set to: \" + width + \" x \" + height + \" (Block size: \" + blockSize + \"px)\";\n",
       "      \n",
       "      // Adjust the size of the block\n",
       "      block.style.width = blockSize + \"px\";\n",
       "      block.style.height = blockSize + \"px\";\n",
       "    } else {\n",
       "      // Set/clear output messages when there is an error\n",
       "      document.getElementById('output').innerHTML = \"\";\n",
       "      // Output an error message to the console\n",
       "      // Output an error message to the HTML page\n",
       "      document.getElementById('error').innerHTML = \"Invalid length: \" + width;\n",
       "\n",
       "      // Clear the block size\n",
       "      block.style.width = \"0px\";\n",
       "      block.style.height = \"0px\";\n",
       "    }\n",
       "    console.error(\"HD resolution:\", block.style.width, \"x\", block.style.height);\n",
       "  }\n",
       "</script>\n"
      ],
      "text/plain": [
       "<IPython.core.display.HTML object>"
      ]
     },
     "metadata": {},
     "output_type": "display_data"
    }
   ],
   "source": [
    "%%html \n",
    "\n",
    "<p>This example uses data types, operators, and functions to scale a block based on a user-defined width.</p>\n",
    "\n",
    "<!-- Input definitions -->\n",
    "<div>\n",
    "  <label for=\"width\">Enter side length:</label>\n",
    "  <input type=\"number\" id=\"width\" name=\"width\" min=\"1\" max=\"1000000\" step=\"1\" value=\"1\">\n",
    "  <button onclick=\"submitScale()\">Submit</button>\n",
    "</div>\n",
    "\n",
    "<!-- Document Object Model (DOM) output locations -->\n",
    "<div id=\"output\"></div>\n",
    "<div id=\"error\"></div>\n",
    "\n",
    "<!-- Block display -->\n",
    "<div id=\"block\" style=\"width: 64px; height: 64px; background-color: rgb(183, 0, 255);\"></div>\n",
    "\n",
    "<script>\n",
    "\n",
    "  // Function to validate and output the scale value\n",
    "  function submitScale() {\n",
    "    const BLOCK_SCALE_DIVISOR = 20;\n",
    "    const ASPECT_RATIO = 9 / 16;\n",
    "    let block = document.getElementById('block');\n",
    "    let width = parseInt(document.getElementById('width').value);\n",
    "    \n",
    "    // Restrict sizes to common HD resolutions\n",
    "    if (width>=0 && width<=1000000) {\n",
    "      // Calculate height based on 16:9 aspect ratio\n",
    "      let height = width;\n",
    "      \n",
    "      // Calculate block size as 1/20th of the scale dimensions\n",
    "      let blockSize = Math.min(width, height) / BLOCK_SCALE_DIVISOR;\n",
    "      \n",
    "      // Set/clear error messages when the value is valid\n",
    "      document.getElementById('error').innerHTML = \"\";\n",
    "      // Output the scale value to the console\n",
    "      document.getElementById('output').innerHTML = \"Scale set to: \" + width + \" x \" + height + \" (Block size: \" + blockSize + \"px)\";\n",
    "      \n",
    "      // Adjust the size of the block\n",
    "      block.style.width = blockSize + \"px\";\n",
    "      block.style.height = blockSize + \"px\";\n",
    "    } else {\n",
    "      // Set/clear output messages when there is an error\n",
    "      document.getElementById('output').innerHTML = \"\";\n",
    "      // Output an error message to the console\n",
    "      // Output an error message to the HTML page\n",
    "      document.getElementById('error').innerHTML = \"Invalid length: \" + width;\n",
    "\n",
    "      // Clear the block size\n",
    "      block.style.width = \"0px\";\n",
    "      block.style.height = \"0px\";\n",
    "    }\n",
    "    console.error(\"HD resolution:\", block.style.width, \"x\", block.style.height);\n",
    "  }\n",
    "</script>"
   ]
  },
  {
   "cell_type": "markdown",
   "metadata": {},
   "source": [
    "### Popcorn Hack 2\n",
    "\n",
    "Make a code cell that changes block into a square, versus HD resolution"
   ]
  },
  {
   "cell_type": "markdown",
   "metadata": {},
   "source": [
    "## Placing a Block\n",
    "\n",
    "Often in gaming you will want to position on element in relationship to another."
   ]
  },
  {
   "cell_type": "markdown",
   "metadata": {},
   "source": [
    "### Popcorn Hack 3\n",
    "\n",
    "Try to place a square in every corner.\n"
   ]
  },
  {
   "cell_type": "markdown",
   "metadata": {},
   "source": [
    "### Turtle / Fish HW\n",
    "\n",
    "Make the Turtle and Fish start on screen in different locations (ie Fish Center/Left, Turtle Center/Right)"
   ]
  }
 ],
 "metadata": {
  "kernelspec": {
   "display_name": "venv",
   "language": "python",
   "name": "python3"
  },
  "language_info": {
   "codemirror_mode": {
    "name": "ipython",
    "version": 3
   },
   "file_extension": ".py",
   "mimetype": "text/x-python",
   "name": "python",
   "nbconvert_exporter": "python",
   "pygments_lexer": "ipython3",
   "version": "3.10.12"
  }
 },
 "nbformat": 4,
 "nbformat_minor": 2
}
