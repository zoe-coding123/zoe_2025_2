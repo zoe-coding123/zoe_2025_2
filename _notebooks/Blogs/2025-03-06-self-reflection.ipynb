{
 "cells": [
  {
   "cell_type": "raw",
   "metadata": {
    "vscode": {
     "languageId": "raw"
    }
   },
   "source": [
    "---\n",
    "toc: true\n",
    "layout: post\n",
    "title: Self Reflection\n",
    "description: My review of myself with our last sprint\n",
    "categories: [Final Review]\n",
    "author: Zoe Chow\n",
    "---"
   ]
  },
  {
   "cell_type": "markdown",
   "metadata": {},
   "source": [
    "# Self Review\n",
    "\n",
    "## Soft Skills\n",
    "\n",
    "Rank to Ratio, rank is an integer  \n",
    "1 = .55\n",
    "2 = .75\n",
    "3 = .85\n",
    "4 = .90\n",
    "4+Mastered-Y = .95\n",
    "\n",
    "| Skill          | Mastered (Y/N) | Rank (1-4)   | Ratio | Notes |\n",
    "|----------------|----------------|--------------|-------|-------|\n",
    "| Attendance     | [Y]            | 4            | 0.90   |  Generally on time, was absent for 1-2 days.     |\n",
    "| Work Habits    | [N]            | 3            | 0.85   | I still need to work on making time and staying on schedule with my work.   |\n",
    "| Behavior       | [N]            | 4            | 0.90   | I don't think I've misbehaved in any sort of way. I've usually try my best and to at least try to see if I can fix something on my own first. |\n",
    "| Timeliness     | [N]            | 3            | 0.85   | This is something I'm aware that I need to improve and have been trying to work on. I believe I've started to make slight improvement now towards the end of the tri but now its ending.|\n",
    "| Tech Sense     | [N]            | 2            | 0.75   | I think its improved but I think I could still improve my foundational understanding as well as having a more detailed understanding of the concepts we've been using. |\n",
    "| Tech Talk      | [N]            | 2            | 0.75   | I still find I'm not the best at explaining, I think this is something that will improve as I improve my understanding/tech sense. I'm also trying to be more confident in what I say and present. |\n",
    "| Tech Growth    | [N]            | 4           | 0.90   | I definitely think I know more now than I did at the beginning of the trimester. And I feel after trying things with the code I'm starting to understand it better. |\n",
    "| Advocacy       | [N]            | 3            | 0.85   | This is something I could still improve, but I've made a few attempts to ask questions. I've gotten more outside help from a tutor and my dad.  |\n",
    "| Comm & Collab  | [N]            | 3            | 0.85  | I know I could still work on improving my communication and collaboration. I know I could still probably branch out more to talk to others. I did try my best to communicate and work with my group when we were working on the platformer game.   |\n",
    "| Integrity      | [N]            | 4            | 0.90   | I try my best to be honest. I've gotten some outside help on my work though in addition to trying to look up things myself.     |\n",
    "| Organized      | [N]            | 4            | 0.90   | I think my organization hasn't been too bad but I probably could still fix some of my categories on old blogs. Maybe I could put more links on my page.       |\n",
    "| **Total**      |                |              | 9.4   |       |\n",
    "| **Average**    |                |              | 0.85   |       |\n",
    "\n",
    "## Final Review\n",
    "\n",
    "Rank to Ratio, rank is an integer  \n",
    "1 = .55\n",
    "2 = .75\n",
    "3 = .85\n",
    "4 = .90\n",
    "4+Mastered-Y = .95\n",
    "\n",
    "| Skill          | Mastered (Y/N) | Rank (1-4) | Ratio | Notes |\n",
    "|----------------|----------------|------------|-------|-------|\n",
    "| 5 things I learned |        [N]            | 3                 | 0.85    | I think I did okay but maybe I could have a bit more examples directly in the blog.         |\n",
    "| Latest Game Feature |        [N]            | 3                | 0.85    | My game feature for what it is is mostly successful. I wanted to do a bit more and its functionality might be a bit unconventional, but I did make multiple changes to the code and had to do a lot of troubleshooting.        |\n",
    "| Latest Game Feature blog write up, plus visualization of code understanding (drawIO) |        [N]            | 3                | 0.85    |  I  think its okay but I probably could a bit more detailed in the explanation of how my changes work. My draw.io diagram might still also a bit more arrows than necessary, but I did try to just get it down to arrows for inheritance and has a relationships.         |\n",
    "| College Articulation Blogs | [N] | 2 | 0.75 | I have blogs on the different topics but some of them could be more complete with more explanation. Some of them I'm also not sure if they're too generalized. Some could use some more examples. |\n",
    "| N@TM feedback from demo |        [N]            |  3               | 0.85   | I think I could have seen a few more projects, but I had to leave early because my dad had to leave to pick up my grandparents. I probably could have also tried to put myself out there a bit more when it was my turn to present. So I probably could have engaged a bit more but part of that was due to having to leave early.        |\n",
    "| **Total**      |                |            | **4.15** |       |       |\n",
    "| **Average**    |                |            | **0.85** |       |       |"
   ]
  }
 ],
 "metadata": {
  "language_info": {
   "name": "python"
  }
 },
 "nbformat": 4,
 "nbformat_minor": 2
}
