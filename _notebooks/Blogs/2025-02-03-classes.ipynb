{
 "cells": [
  {
   "cell_type": "code",
   "execution_count": null,
   "metadata": {
    "vscode": {
     "languageId": "plaintext"
    }
   },
   "outputs": [],
   "source": [
    "---\n",
    "toc: true\n",
    "layout: post\n",
    "title: Classes\n",
    "description: An explanation on classes and OOP coding.\n",
    "categories: [College Articulation Blogs]\n",
    "author: Zoe Chow\n",
    "---"
   ]
  },
  {
   "cell_type": "markdown",
   "metadata": {},
   "source": [
    "# Classes\n",
    "In object-oriented programming (OOP), a class serves as a blueprint for creating objects. It defines the attributes (data) and methods (functions) that the objects instantiated from the class will have.\n",
    "- Drawio diagrams on classes\n",
    "\n",
    "## Instantiating Objects\n",
    "Instantiation is the process of creating an object from a class using a constructor method. The constructor initializes object attributes.\n",
    "\n",
    "## Using Objects\n",
    "Once an object has been instantiated, you can access or modify the object’s attributes or call the object’s methods to perform actions or retrieve information.\n",
    "\n",
    "## Methods\n",
    "Methods are functions defined within a class that operate on the data (attributes) of an object.\n",
    "Methods can modify object state, perform calculations or operations, and return values\n",
    "\n",
    "## Calling Methods\n",
    "- To call a method on an object (in JavaScript), use the object’s name followed by a dot (.), the method name, and parentheses.\n",
    "- Pass any required arguments (parameters) inside the parentheses.\n",
    "\n",
    "## Parameters\n",
    "Methods can take inputs called parameters (or arguments) to process data or customize behavior.\n",
    "When calling a method, parameters are passed to the method by placing them within the parentheses.\n",
    "\n",
    "## Return Values\n",
    "Methods can produce and transmit results from calculations or operations to the caller for further use via return values. The methods “return values.”\n"
   ]
  }
 ],
 "metadata": {
  "language_info": {
   "name": "python"
  }
 },
 "nbformat": 4,
 "nbformat_minor": 2
}
