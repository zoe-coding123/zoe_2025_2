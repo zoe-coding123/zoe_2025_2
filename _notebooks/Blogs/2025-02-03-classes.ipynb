{
 "cells": [
  {
   "cell_type": "code",
   "execution_count": null,
   "metadata": {
    "vscode": {
     "languageId": "plaintext"
    }
   },
   "outputs": [],
   "source": [
    "---\n",
    "toc: true\n",
    "layout: post\n",
    "title: Classes\n",
    "description: An explanation on classes and OOP coding.\n",
    "categories: \n",
    "    - Final Review\n",
    "    - College Articulation Blogs\n",
    "author: Zoe Chow\n",
    "---"
   ]
  },
  {
   "cell_type": "markdown",
   "metadata": {},
   "source": [
    "# Classes\n",
    "In object-oriented programming (OOP), a class serves as a blueprint for creating objects. It defines the attributes (data) and methods (functions) that the objects instantiated from the class will have.\n",
    "\n",
    "## Drawio diagrams on classes\n",
    "![Image](https://github.com/user-attachments/assets/10de11ba-df24-436e-9c99-4123be9e4812)\n",
    "\n",
    "This is a class diagram of adventureGame. This version is the one that contains my personal changes to the original. Diagrams like this model the relationships between different classes. The top section of a box contains the key properties it has. The bottom half of a box shows all the methods a class has. The arrows between boxes represent is a and has a relationships. The arrows with an open arrow head represent inheritence. The class the arrow points to is the class the other is inheriting from. When a class is extended from another class, it inherits all its properties and methods. These would also model is a relationships. For example, Character is a GameObject. The other arrows with a filled in arrow head are for has a relationships. They represent if a class has objects/instances of another class in it. For example, GameEnv has GameObjects it it.\n",
    "\n",
    "## Instantiating Objects\n",
    "Instantiation is the process of creating an object from a class using a constructor method. The constructor initializes object attributes.\n",
    "\n",
    "## Using Objects\n",
    "Once an object has been instantiated, you can access or modify the object’s attributes or call the object’s methods to perform actions or retrieve information.\n",
    "\n",
    "## Methods\n",
    "Methods are functions defined within a class that operate on the data (attributes) of an object.\n",
    "Methods can modify object state, perform calculations or operations, and return values\n",
    "\n",
    "## Calling Methods\n",
    "- To call a method on an object (in JavaScript), use the object’s name followed by a dot (.), the method name, and parentheses.\n",
    "- Pass any required arguments (parameters) inside the parentheses.\n",
    "\n",
    "## Parameters\n",
    "Methods can take inputs called parameters (or arguments) to process data or customize behavior.\n",
    "When calling a method, parameters are passed to the method by placing them within the parentheses.\n",
    "\n",
    "## Return Values\n",
    "Methods can produce and transmit results from calculations or operations to the caller for further use via return values. The methods “return values.”\n"
   ]
  }
 ],
 "metadata": {
  "language_info": {
   "name": "python"
  }
 },
 "nbformat": 4,
 "nbformat_minor": 2
}
