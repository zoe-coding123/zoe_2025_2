{
 "cells": [
  {
   "cell_type": "code",
   "execution_count": null,
   "metadata": {
    "vscode": {
     "languageId": "plaintext"
    }
   },
   "outputs": [],
   "source": [
    "---\n",
    "toc: true\n",
    "layout: post\n",
    "title: Retrospective Engineering\n",
    "description: Information on live reviews and my self reflection.\n",
    "categories: \n",
    "    - Final Review\n",
    "    - College Articulation Blogs\n",
    "author: Zoe Chow\n",
    "---"
   ]
  },
  {
   "cell_type": "markdown",
   "metadata": {},
   "source": [
    "# Retrospective\n",
    "\n",
    "## Performing Demos\n",
    "Demos are live presentations to others on your software product. During these you should show your progress and changes, what you've specifically developed since previously working on the project.\n",
    "\n",
    "## Feedback\n",
    "Feedback is a useful tool that should constantly be sought. Positive feedback is encouraging and gives you and idea of what is effective. Other construtive feedback is informative of how you could improve and make a better product in the future. Feedback is something a developer should note and try to fix.\n",
    "\n",
    "## Retrospective Issues\n",
    "Retrospectives are important for understanding your weaknesses and what and how you can improve. It's important to understand what may have been unideal that could be fixed and addressed in the future as to not repeat the same mistake. Its good to self reflect and understand where you currently are.\n",
    "\n",
    "## Personal Reflection\n",
    "\n",
    "### N@TM\n",
    "I think N@TM went okay. Maybe I could have prepped a bit more but I was able to show the core ideas of what I wanted for the game. Perhaps I could have tried to put myself out there a bit more and be more friendly and get more of the attention of those who pass by. I noticed there were lots of interest in the stations around me. Of course I would have preferred if I could have gotten just a bit further in my changes and also have resolved the issue on my website version of the game.\n",
    "\n",
    "## Project Reflection and Future Direction\n",
    "If I had more time, I would reconfigure/change the current system I have set up for the level transitions to the system that the adventureGame on nighthawk pages uses for the game in game feature. This would possibly fix some of the past issues I encountered and maybe the most recent one with the game having a bug on my online website with the sprites that doesn't occur on my localhost version. After that I'm not sure if I would have stuck with trying to get the quiz system to work. I might end up setting a different level ending condition if I had the time. The last thing I had been trying to do that I would have liked to finish was to make it so the player is unable to enter the same level twice. Some other future thoughts from my original ideas is to have a game ending. After the player completes all the levels, a portal would spawn on the map, the player would walk through and then there would some sort of The End screen."
   ]
  }
 ],
 "metadata": {
  "language_info": {
   "name": "python"
  }
 },
 "nbformat": 4,
 "nbformat_minor": 2
}
