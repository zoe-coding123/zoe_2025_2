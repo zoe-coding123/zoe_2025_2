{
 "cells": [
  {
   "cell_type": "code",
   "execution_count": null,
   "metadata": {
    "vscode": {
     "languageId": "plaintext"
    }
   },
   "outputs": [],
   "source": [
    "---\n",
    "toc: true\n",
    "layout: post\n",
    "title: JSON Object and Data Types\n",
    "description: An explanation of a JSON object and the different data types/structures.\n",
    "categories: [College Articulation Blogs]\n",
    "author: Zoe Chow\n",
    "---"
   ]
  },
  {
   "cell_type": "markdown",
   "metadata": {},
   "source": [
    "# Data Types\n",
    "\n",
    "Data types are a collection of data values. There are two different types of data types in javascript, primitive data types and reference data types."
   ]
  },
  {
   "cell_type": "code",
   "execution_count": null,
   "metadata": {
    "vscode": {
     "languageId": "javascript"
    }
   },
   "outputs": [],
   "source": [
    "%% js\n",
    "\n",
    "// NPC data for Tux \n",
    "    const sprite_src_tux = path + \"/images/gamify/tux.png\"; // be sure to include the path\n",
    "    const sprite_data_tux = {\n",
    "        id: 'Tux',\n",
    "        greeting: \"Hi I am Tux, the Linux mascot.  I am very happy to spend some linux shell time with you!\",\n",
    "        src: sprite_src_tux,\n",
    "        SCALE_FACTOR: 8, // number\n",
    "        ANIMATION_RATE: 50,\n",
    "        pixels: {height: 256, width: 352},\n",
    "        INIT_POSITION: { x: (width * 9 / 10), y: (height/2)},\n",
    "        orientation: {rows: 8, columns: 11 },\n",
    "        down: {row: 5, start: 0, columns: 3 },  // This is the stationary npc, down is default \n",
    "        hitbox: { widthPercentage: 0.1, heightPercentage: 0.2 },\n",
    "        targetLevel: 'GameLevelIce',\n",
    "        // Linux command quiz\n",
    "        quiz: { \n",
    "          title: \"Linux Command Quiz\",\n",
    "          questions: [\n",
    "            \"Which command is used to list files in a directory?\\n1. ls\\n2. dir\\n3. list\\n4. show\",\n",
    "            \"Which command is used to change directories?\\n1. cd\\n2. chdir\\n3. changedir\\n4. changedirectory\",\n",
    "            \"Which command is used to create a new directory?\\n1. mkdir\\n2. newdir\\n3. createdir\\n4. makedir\",\n",
    "            \"Which command is used to remove a file?\\n1. rm\\n2. remove\\n3. delete\\n4. erase\",\n",
    "            \"Which command is used to remove a directory?\\n1. rmdir\\n2. removedir\\n3. deletedir\\n4. erasedir\",\n",
    "            \"Which command is used to copy files?\\n1. cp\\n2. copy\\n3. duplicate\\n4. xerox\",\n",
    "            \"Which command is used to move files?\\n1. mv\\n2. move\\n3. transfer\\n4. relocate\",\n",
    "            \"Which command is used to view a file?\\n1. cat\\n2. view\\n3. show\\n4. display\",\n",
    "            \"Which command is used to search for text in a file?\\n1. grep\\n2. search\\n3. find\\n4. locate\",\n",
    "            \"Which command is used to view the contents of a file?\\n1. less\\n2. more\\n3. view\\n4. cat\" \n",
    "          ] \n",
    "        }\n",
    "      };\n"
   ]
  },
  {
   "cell_type": "markdown",
   "metadata": {},
   "source": [
    "## Primitive Data Types\n",
    "\n",
    "Some of these data types include\n",
    "\n",
    "### Numbers\n",
    "Numerical values\n",
    "\n",
    "\n",
    "### Strings\n",
    "Strings are text values\n",
    "\n",
    "### Booleans\n",
    "Booleans have values that are either true or false\n"
   ]
  },
  {
   "cell_type": "markdown",
   "metadata": {
    "vscode": {
     "languageId": "plaintext"
    }
   },
   "source": [
    "## Reference Data Types\n",
    "\n",
    "Reference data types include\n",
    "\n",
    "## Arrays\n",
    "\n"
   ]
  },
  {
   "cell_type": "markdown",
   "metadata": {},
   "source": [
    "# JSON Objects\n",
    "\n",
    "JSON objects are a set of data as key value pairs. These can contain some or all of the different data types mentioned above."
   ]
  }
 ],
 "metadata": {
  "language_info": {
   "name": "python"
  }
 },
 "nbformat": 4,
 "nbformat_minor": 2
}
