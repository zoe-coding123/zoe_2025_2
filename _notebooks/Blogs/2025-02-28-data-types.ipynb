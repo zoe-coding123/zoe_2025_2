{
 "cells": [
  {
   "cell_type": "code",
   "execution_count": null,
   "metadata": {
    "vscode": {
     "languageId": "plaintext"
    }
   },
   "outputs": [],
   "source": [
    "---\n",
    "toc: true\n",
    "layout: post\n",
    "title: JSON Objects and Data Types\n",
    "description: An explanation of a JSON object and the different data types/structures.\n",
    "categories: [College Articulation Blogs]\n",
    "author: Zoe Chow\n",
    "---"
   ]
  },
  {
   "cell_type": "markdown",
   "metadata": {},
   "source": [
    "# JSON Objects\n",
    "\n",
    "JSON objects are a set of data as key value pairs. The data in these object are enclosed in curly braces."
   ]
  },
  {
   "cell_type": "code",
   "execution_count": null,
   "metadata": {
    "vscode": {
     "languageId": "javascript"
    }
   },
   "outputs": [],
   "source": [
    "%% js\n",
    "\n",
    "// This is an example of a JSON object from adventureGame. This is the data for the robot npc.\n",
    "\n",
    "const sprite_src_robot = path + \"/images/gamify/robot.png\"; // be sure to include the path\n",
    "    const sprite_data_robot = {\n",
    "        id: 'Robot', // string\n",
    "        greeting: \"Hi I am Robot, the Jupyter Notebook mascot.  I am very happy to spend some linux shell time with you!\", // string\n",
    "        src: sprite_src_robot,\n",
    "        SCALE_FACTOR: 10,  // number\n",
    "        ANIMATION_RATE: 100, // number\n",
    "        pixels: {height: 316, width: 627}, // object\n",
    "        INIT_POSITION: { x: (width * 1 / 7), y: (height * 11 / 16)}, // object\n",
    "        orientation: {rows: 3, columns: 6 }, // object\n",
    "        down: {row: 1, start: 0, columns: 6 },  // object \n",
    "        hitbox: { widthPercentage: 0.1, heightPercentage: 0.2 }, // object\n",
    "        targetLevel: 'GameLevelDesert', // string\n",
    "        flip: true, // boolean\n",
    "        // Linux command quiz\n",
    "        // object\n",
    "        quiz: { \n",
    "          title: \"Jupyter Notebook Command Quiz\", // string\n",
    "          // array\n",
    "          questions: [\n",
    "            \"Which shortcut is used to run a cell in Jupyter Notebook?\\n1. Shift + Enter\\n2. Ctrl + Enter\\n3. Alt + Enter\\n4. Tab + Enter\",\n",
    "            \"Which shortcut adds a new cell above the current cell?\\n1. A\\n2. B\\n3. C\\n4. D\",\n",
    "            \"Which shortcut adds a new cell below the current cell?\\n1. B\\n2. A\\n3. C\\n4. D\",\n",
    "            \"Which shortcut changes a cell to Markdown format?\\n1. M\\n2. Y\\n3. R\\n4. K\",\n",
    "            \"Which shortcut changes a cell to Code format?\\n1. Y\\n2. M\\n3. C\\n4. D\",\n",
    "            \"Which shortcut deletes the current cell?\\n1. D, D\\n2. X\\n3. Del\\n4. Ctrl + D\",\n",
    "            \"Which shortcut saves the current notebook?\\n1. Ctrl + S\\n2. Alt + S\\n3. Shift + S\\n4. Tab + S\",\n",
    "            \"Which shortcut restarts the kernel?\\n1. 0, 0\\n2. R, R\\n3. K, K\\n4. Shift + R\",\n",
    "            \"Which shortcut interrupts the kernel?\\n1. I, I\\n2. Ctrl + C\\n3. Shift + I\\n4. Alt + I\",\n",
    "            \"Which shortcut toggles line numbers in a cell?\\n1. L\\n2. N\\n3. T\\n4. G\"\n",
    "          ] \n",
    "        }\n",
    "      };"
   ]
  },
  {
   "cell_type": "markdown",
   "metadata": {},
   "source": [
    "The keys in these key value pairs are the properties on the left side of the colon. On the other side of the colon are the data values for that property, which can be of multiple different types. Key value pairs inside a JSON object are seperated by commas.\n",
    "\n",
    "Different data types include\n",
    "\n",
    "Numbers\n",
    "- Numberical values\n",
    "\n",
    "SCALE_FACTOR and ANIMATION_RATE are both examples of numbers.\n",
    "\n",
    "Strings\n",
    "- Text values\n",
    "\n",
    "id and greeting are both examples of strings\n",
    "\n",
    "Boolean\n",
    "- Has values that are either true or false\n",
    "\n",
    "flip is an example of a boolean. In this case flip being true means that the sprite should be flipped.\n",
    "\n",
    "Arrays\n",
    "- An ordered list of values. They can hold values of any data type. Values in an array are referred to as elements, and enclosed within square brackets, seperated by commas. An array can also be empty.\n",
    "\n",
    "questions is an example of an array.\n",
    "\n",
    "Objects\n",
    "- JSON objects can have objects inside of them. They are a collection of key value pairs.\n",
    "\n",
    "quiz is an example of an object\n"
   ]
  }
 ],
 "metadata": {
  "language_info": {
   "name": "python"
  }
 },
 "nbformat": 4,
 "nbformat_minor": 2
}
