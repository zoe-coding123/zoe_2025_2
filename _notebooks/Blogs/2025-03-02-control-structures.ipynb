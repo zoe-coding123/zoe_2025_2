{
 "cells": [
  {
   "cell_type": "code",
   "execution_count": null,
   "metadata": {
    "vscode": {
     "languageId": "plaintext"
    }
   },
   "outputs": [],
   "source": [
    "---\n",
    "toc: true\n",
    "layout: post\n",
    "title: Control Structures\n",
    "description: An explanation on conditionals and iterations.\n",
    "categories: [College Articulation Blogs]\n",
    "author: Zoe Chow\n",
    "---"
   ]
  },
  {
   "cell_type": "markdown",
   "metadata": {},
   "source": [
    "# Conditionals\n",
    "\n",
    "Conditionals are a way to control the flow of code and act as decision making.\n",
    "\n",
    "Below is an example of some conditionals"
   ]
  },
  {
   "cell_type": "markdown",
   "metadata": {},
   "source": [
    "## If statements\n",
    "\n",
    "The most common type of conditionals are if statements. if statements run the code inside of them when the specified condition is met."
   ]
  },
  {
   "cell_type": "code",
   "execution_count": null,
   "metadata": {
    "vscode": {
     "languageId": "javascript"
    }
   },
   "outputs": [],
   "source": [
    "%% js\n",
    "\n",
    "// This is a function from the GameControl of adventureGame\n",
    "// In this function, if GameState.quizCompleted is true, then it runs the handleLevelEnd function.\n",
    "\n",
    "checkQuizCompletion: function() {\n",
    "        if (GameState.quizCompleted) {\n",
    "            this.handleLevelEnd();\n",
    "        }\n",
    "    }"
   ]
  },
  {
   "cell_type": "code",
   "execution_count": null,
   "metadata": {
    "vscode": {
     "languageId": "javascript"
    }
   },
   "outputs": [],
   "source": [
    "%% js\n",
    "\n",
    "// This is an example from GameControl.js in adventureGame. This is the gameLoop that runs the game.\n",
    "\n",
    "gameLoop: function() {\n",
    "        // Base case: leave the game loop \n",
    "        if (!GameEnv.continueLevel || GameState.quizCompleted) {\n",
    "            if (GameState.quizCompleted) {\n",
    "                this.routeToMapLevel();\n",
    "            } else {\n",
    "                this.handleLevelEnd();  \n",
    "            }\n",
    "            return;\n",
    "        }\n",
    "        // Nominal case: update the game objects \n",
    "        GameEnv.clear();\n",
    "        for (let object of GameEnv.gameObjects) {\n",
    "            object.update();  // Update the game objects\n",
    "        }\n",
    "        //console.log('Current transitionNPCS before checkTransitions:', this.transitionNPCS);\n",
    "        this.checkTransitions();\n",
    "        //console.log('Current transitionNPCS after checkTransitions:', this.transitionNPCS);\n",
    "        this.checkQuizCompletion();\n",
    "        this.handleLevelStart();\n",
    "        // Recursively call this function at animation frame rate\n",
    "        requestAnimationFrame(this.gameLoop.bind(this));\n",
    "    }"
   ]
  },
  {
   "cell_type": "markdown",
   "metadata": {},
   "source": [
    "## If else statements\n",
    "\n",
    "There are also if statements with another else component. If the condition is met, the code inside the curly braces for the if statement will run. If the condition is not met, it will run the else code. Here is an example below."
   ]
  },
  {
   "cell_type": "code",
   "execution_count": null,
   "metadata": {
    "vscode": {
     "languageId": "javascript"
    }
   },
   "outputs": [],
   "source": [
    "%% js\n",
    "\n",
    "// This is the draw function in Background.js in adventureGame\n",
    "\n",
    "draw() {\n",
    "    const ctx = GameEnv.ctx;\n",
    "    const width = GameEnv.innerWidth;\n",
    "    const height = GameEnv.innerHeight;\n",
    "\n",
    "    // This is the conditional\n",
    "    // If there is an image, then it draws it according to the canvas dimensions.\n",
    "    if (this.image) {\n",
    "        // Draw the background image scaled to the canvas size\n",
    "        ctx.drawImage(this.image, 0, 0, width, height);\n",
    "    // If there is not an image, then the canvas is filled with the color represented by the hex code to \n",
    "    // the canvas dimensions.\n",
    "    } else {\n",
    "        // Fill the canvas with fillstyle color if no image is provided\n",
    "        ctx.fillStyle = '#87CEEB';\n",
    "        ctx.fillRect(0, 0, width, height);\n",
    "    }\n",
    "}\n"
   ]
  },
  {
   "cell_type": "markdown",
   "metadata": {},
   "source": [
    "## Switch statements\n",
    "\n",
    "Another type of conditional are switch statements. Here is an example below."
   ]
  },
  {
   "cell_type": "code",
   "execution_count": null,
   "metadata": {
    "vscode": {
     "languageId": "javascript"
    }
   },
   "outputs": [],
   "source": [
    "%% js\n",
    "\n",
    "// This is part of the code related to the movement of the player in adventureGame from Player.js.\n",
    "// In this function, handleKeyUp, the velocity of the player is set to 0 when a key is no longer being pressed, \n",
    "// stopping their movement.\n",
    "\n",
    "handleKeyUp({ keyCode }) {\n",
    "    switch (keyCode) {\n",
    "        case this.keypress.up: // case clause\n",
    "            this.velocity.y = 0;\n",
    "            break; // break statement\n",
    "        case this.keypress.left: // case clause\n",
    "            this.velocity.x = 0;\n",
    "            break; // break statement\n",
    "        case this.keypress.down: // case clause\n",
    "            this.velocity.y = 0;\n",
    "            break; // break statement\n",
    "        case this.keypress.right: // case clause\n",
    "            this.velocity.x = 0;\n",
    "            break; // break statement\n",
    "    }\n",
    "}"
   ]
  },
  {
   "cell_type": "markdown",
   "metadata": {},
   "source": [
    "In a switch statement the code in the parenthesis are evaluated and then compared to the values of the different case clauses. If it matches the value of one of the cases, then the code in that case clause is run. The break statements stop the code from running the next case if another was already met and run."
   ]
  },
  {
   "cell_type": "markdown",
   "metadata": {},
   "source": [
    "# Iterations\n",
    "\n",
    "Iterations are the repitions of code usually through loops. Here are examples of some of the different loops below."
   ]
  },
  {
   "cell_type": "markdown",
   "metadata": {},
   "source": [
    "## for Loops\n",
    "\n",
    "The most common loop is the for Loop. Inside the parenthesis of the for loop is where it is set how many times it will run."
   ]
  },
  {
   "cell_type": "code",
   "execution_count": null,
   "metadata": {
    "vscode": {
     "languageId": "javascript"
    }
   },
   "outputs": [],
   "source": [
    "%% js\n",
    "\n",
    "// This is a function from GameControl.js in adventureGame\n",
    "\n",
    "handleLevelEnd: function() {\n",
    "    console.log('%c[GameControl] handleLevelEnd() called', 'color: purple; font-weight: bold;');\n",
    "    // More levels to play \n",
    "    if (this.currentLevelIndex < this.levelClasses.length - 1) {\n",
    "        alert(\"Level ended.\");\n",
    "    } else { // All levels completed\n",
    "        alert(\"Game over. All levels completed.\");\n",
    "    }\n",
    "    // Tear down the game environment\n",
    "    // This is the for loop. In this case it will keep running until the index is less than or equal to 0\n",
    "    for (let index = GameEnv.gameObjects.length - 1; index >= 0; index--) {\n",
    "        const obj = GameEnv.gameObjects[index];\n",
    "        if (obj && typeof obj.destroy === 'function') {\n",
    "        obj.destroy();\n",
    "        console.log(`%c[GameControl] Destroyed object: ${obj.id}`, 'color: red; font-weight: bold;');\n",
    "        } else {\n",
    "        console.warn('Object does not have a destroy method:', obj);\n",
    "        }    \n",
    "    }\n",
    "}\n",
    "\n",
    "// Each part of the iteration set up\n",
    "\n",
    "let index = GameEnv.gameObjects.length - 1 // sets index to the last element of the GameEnv.gameObjects array\n",
    "index >= 0 // sets the loop to keep running until index = 0\n",
    "index-- // decreases index by 1, moves counter to the previous object in the array"
   ]
  },
  {
   "cell_type": "markdown",
   "metadata": {},
   "source": [
    "In this case, the number of iterations is not known as it's dependent on how many elements are in the gameObjects array. In some other cases the starting number would be set. The counter for this loop is the variable index. Index is set to start with the last element of the GameEnv.gameObjects array. Then the code inside the for loop will be run. After running this code index is decremented, lowering it's value by one. So then the loop is started again with the next element at the end of the gameObjects array. This continues until index reaches 0 and the array is empty."
   ]
  },
  {
   "cell_type": "markdown",
   "metadata": {},
   "source": [
    "## While loops\n",
    "\n",
    "Another type of loop is a while loop. A while loop keeps running until the condition is no longer true."
   ]
  },
  {
   "cell_type": "code",
   "execution_count": null,
   "metadata": {
    "vscode": {
     "languageId": "javascript"
    }
   },
   "outputs": [],
   "source": [
    "%% js\n",
    "\n",
    "let i = 0;\n",
    "\n",
    "// Loop keeps running until i is 5\n",
    "while (i < 5) {\n",
    "    console.log(\"Iteration:\", i);\n",
    "    i++; // Increments i, increasing it by 1\n",
    "}"
   ]
  }
 ],
 "metadata": {
  "language_info": {
   "name": "python"
  }
 },
 "nbformat": 4,
 "nbformat_minor": 2
}
