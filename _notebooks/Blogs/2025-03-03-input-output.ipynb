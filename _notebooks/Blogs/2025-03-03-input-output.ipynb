{
 "cells": [
  {
   "cell_type": "code",
   "execution_count": null,
   "metadata": {
    "vscode": {
     "languageId": "plaintext"
    }
   },
   "outputs": [],
   "source": [
    "---\n",
    "toc: true\n",
    "layout: post\n",
    "title: Input and Output\n",
    "description: Information about HTML5 input and using DOM.\n",
    "categories: [College Articulation Blogs]\n",
    "author: Zoe Chow\n",
    "---"
   ]
  },
  {
   "cell_type": "markdown",
   "metadata": {},
   "source": [
    "# Input/Output\n",
    "\n",
    "## HTML5 Input\n",
    "HTML5 introduced a variety of input types that enhance user interaction and improve data collection. \n",
    "Examples of input types include email, number, date, color, and range\n",
    "\n",
    "Key attributes for input elements include:\n",
    "- type – specifies the kind of input\n",
    "- value – sets or retrieves the current value of the input field\n",
    "- id – A unique identifier for the input element\n",
    "- name – Used to identify form data when submitted\n",
    "\n",
    "## Validation\n",
    "HTML5 provides built-in validation attributes to ensure that user input meets specific criteria before submission.\n",
    "\n",
    "Validation attributes include:\n",
    "- required – Ensures the field is not left empty\n",
    "- pattern – Validates input against a regular expression\n",
    "- min/max – Sets numerical or date constraints\n",
    "- maxlength/minlength – controls the amount of characters allowed/required\n",
    "\n",
    "## Document Object Model (DOM)\n",
    "The DOM allows developers to dynamically interact with and manipulate HTML elements, including input fields.\n",
    "\n",
    "Common operations include:\n",
    "- Selecting Elements – Use methods like getElementById, querySelector, or getElementsByClassName.\n",
    "- Modifying Attributes – Use .setAttribute() or direct property assignment (e.g., element.value = \"new value\";).\n",
    "- Event Handling – Attach event listeners to respond to user interactions like typing or submitting forms.\n"
   ]
  }
 ],
 "metadata": {
  "language_info": {
   "name": "python"
  }
 },
 "nbformat": 4,
 "nbformat_minor": 2
}
