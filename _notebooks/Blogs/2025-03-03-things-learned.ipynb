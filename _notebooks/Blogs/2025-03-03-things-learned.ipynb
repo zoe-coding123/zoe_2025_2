{
 "cells": [
  {
   "cell_type": "code",
   "execution_count": null,
   "metadata": {
    "vscode": {
     "languageId": "plaintext"
    }
   },
   "outputs": [],
   "source": [
    "---\n",
    "toc: true\n",
    "layout: post\n",
    "title: Final Review\n",
    "description: A few things I've learned from CSSE\n",
    "categories: [Final Review]\n",
    "author: Zoe Chow\n",
    "---"
   ]
  },
  {
   "cell_type": "markdown",
   "metadata": {},
   "source": [
    "# 5 Things I've Learned\n",
    "\n",
    "### Software Development\n",
    "\n",
    "I've learned about how multiple people would be able to work on the same code project. I've learned a bit about how forks and branches work, as well as now having tried live share. I talk about forking and branches in my software development cycle blog.\n",
    "\n",
    "### OOP Relationships\n",
    "\n",
    "Another things I've learned about is OOP class relationships. I think I had possibly heard of inheritence before but now I think I understand at least the basic concepts better. I also learned about draw.io and how to make an OOP diagram and what one is supposed to look like. I talk about this in my classes blog.\n",
    "\n",
    "### Coding Collaboration\n",
    "\n",
    "Collaborating with others for a bigger coding project was something new I hadn't really done before. I learned a bit about the process like a bit on what AGILE is, and having to plan and split up tasks. I also learned about the live share feature, and that you can all work on the same repository and see each others edits. \n",
    "\n",
    "### JSON Objects and Sprites\n",
    "\n",
    "In this trimester I feel like with our later projects I've gotten more exposure to JSON objects and sprites. I've learned more about sprites and a bit on their animation.\n",
    "\n",
    "### Learning from Game Changes\n",
    "\n",
    "I think after working with adventureGame and maybe even platformer_4x before, I feel like I'm actually starting to understand the code a little better. I don't know if I could say I understand everything, but I think it helped kind of see how it actually works. Besides learning about class relationships like I've previously mentioned, I also learned a bit about instances and ended getting exposure to the map function and forEach function, which I show at the end of my blog on control structures.\n",
    "\n",
    "\n"
   ]
  }
 ],
 "metadata": {
  "language_info": {
   "name": "python"
  }
 },
 "nbformat": 4,
 "nbformat_minor": 2
}
