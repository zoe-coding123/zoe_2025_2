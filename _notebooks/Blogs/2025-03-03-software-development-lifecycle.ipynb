{
 "cells": [
  {
   "cell_type": "code",
   "execution_count": null,
   "metadata": {
    "vscode": {
     "languageId": "plaintext"
    }
   },
   "outputs": [],
   "source": [
    "---\n",
    "toc: true\n",
    "layout: post\n",
    "title: Software Development Lifecycle\n",
    "description: Tips on how on software development, like testing and managing projects.\n",
    "categories: [College Articulation Blogs]\n",
    "author: Zoe Chow\n",
    "---"
   ]
  },
  {
   "cell_type": "markdown",
   "metadata": {},
   "source": [
    "# Software Development Lifecycle\n",
    "The software development lifecycle is a structured process that guides the creation of software.\n",
    "\n",
    "## Source Control\t\n",
    "Source Control allows developers to maintain a history of the codebase by tracking changes while facilitating collaboration.\n",
    "- In our class, source control was implemented using Git\n",
    "\n",
    "## Forking\n",
    "Forking creates a personal copy of a repository which allows developers to work independently without affecting the main project\n",
    "\n",
    "## Branching\n",
    "Branching allows for isolated development of features or fixes within a single repository. This allows multiple people to be able to collaborate on the same repository.\n",
    "\n",
    "## Merging\n",
    "Merging integrates changes from one branch into another, typically from a feature branch into the main branch.\n",
    "\n",
    "Techniques for merging include:\n",
    "- Standard merge\n",
    "- Squash and merge\n",
    "- Rebase and merge\n",
    "\n",
    "## Pull Requests\n",
    "Pull requests are a method for proposing and reviewing code changes before integration into the main codebase. They can be used to facilitate code review and discussion between team members.\n",
    "\n",
    "## Building\n",
    "Building or build process is typically associated with compiled languages where code is “compiled” to create executable or deployable artifacts. The term can also be used more broadly with interpreted languages to refer to the steps involved in writing, testing, and deploying the code even though there is no explicit compilation involved.\n",
    "\n",
    "## Testing and Verification\n",
    "Testing and verification is conducted to ensure that software is built according to specifications and meets requirements. The goal is to catch issues early, thus reducing the costs and effort required to fix bugs later in the development process.\n",
    "- Automated testing can be incorporated to verify individual components with units test or check how different parts work together with integration tests.\n",
    "- Verification can occur through code reviews and design walkthroughs, and inspection of software artifacts.\n",
    "\n",
    "## Deployment\n",
    "Deployment involves moving tested and approved code to production environments.\n",
    "Continuous Deployment can be employed to automate the process and provide frequent releases.\n",
    "Best practices for deployment include:\n",
    "- Leveraging automated deployment processes\n",
    "- Pre-staging environments\n",
    "- Incorporate monitoring and rollback capabilities\n"
   ]
  }
 ],
 "metadata": {
  "language_info": {
   "name": "python"
  }
 },
 "nbformat": 4,
 "nbformat_minor": 2
}
