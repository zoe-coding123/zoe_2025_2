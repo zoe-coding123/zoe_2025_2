{
 "cells": [
  {
   "cell_type": "code",
   "execution_count": null,
   "metadata": {},
   "outputs": [],
   "source": [
    "---\n",
    "toc: true\n",
    "layout: post\n",
    "title: Data Operators\n",
    "description: A review on some of the different operators.\n",
    "categories: [College Articulation Blogs]\n",
    "author: Zoe Chow\n",
    "---"
   ]
  },
  {
   "cell_type": "markdown",
   "metadata": {},
   "source": [
    "# Operators\n",
    "\n",
    "Operators are symbols that perform actions on operands, which are values or variables. These allow you to edit data types."
   ]
  },
  {
   "cell_type": "markdown",
   "metadata": {},
   "source": [
    "## Mathematical Operators\n",
    "\n",
    "Mathematical operators allow you to perform arithmetic operations with data values.\n",
    "\n",
    "There are your conventional math operations\n",
    "\n",
    "#### Addition\n",
    "```js\n",
    "let sum = 1 + 2; // sum is 3\n",
    "```\n",
    "#### Subtraction\n",
    "```js\n",
    "let difference = 2 - 1; // difference is 1\n",
    "```\n",
    "#### Multiplication\n",
    "```js\n",
    "let product = 2 * 4; // product is 8\n",
    "```\n",
    "#### Division\n",
    "```js\n",
    "let quotient = 6 / 3; // quotient is 2\n",
    "```\n",
    "Then there are some others\n",
    "\n",
    "#### Modulus\n",
    "This operator gives you the remainder of the division between two operands.\n",
    "```js\n",
    "let remainder = 5 / 2; // remainder is 1\n",
    "```\n",
    "#### Exponentation\n",
    "This operator raises the first operand to the power of the second.\n",
    "```js\n",
    "let power = 2 ** 4; // power is 16\n",
    "```\n",
    "#### Increment\n",
    "This operator increases the value of the operand by 1.\n",
    "```js\n",
    "let value = 0;\n",
    "value++; // value is now 1\n",
    "```\n",
    "#### Decrement\n",
    "This operator decreases the value of the operand by 1.\n",
    "```js\n",
    "let value = 10;\n",
    "value--; // value is now 9\n",
    "```\n",
    "\n"
   ]
  },
  {
   "cell_type": "markdown",
   "metadata": {},
   "source": [
    "Here is an example of some of them in code."
   ]
  },
  {
   "cell_type": "code",
   "execution_count": null,
   "metadata": {
    "vscode": {
     "languageId": "javascript"
    }
   },
   "outputs": [],
   "source": [
    "%% js\n",
    "\n",
    "// additional ice for background\n",
    "    const image_src_icesheet = path + \"/images/gamify/icesheet.png\";\n",
    "    const image_data_icesheet = {\n",
    "      name: 'icesheet',\n",
    "      src: image_src_icesheet,\n",
    "      pixels: {height: 70, width: 107},\n",
    "      INIT_POSITION: { x: (width * 8 / 9), y: (height * 11 / 20) }, // multiplication\n",
    "      SCALE_FACTOR: 5\n",
    "    };"
   ]
  },
  {
   "cell_type": "markdown",
   "metadata": {},
   "source": [
    "## String Operators\n",
    "\n",
    "String operators are able to manipulate different strings.\n",
    "\n",
    "#### Concatenation\n",
    "The concatentation operator (+) can combine strings."
   ]
  },
  {
   "cell_type": "code",
   "execution_count": 4,
   "metadata": {
    "vscode": {
     "languageId": "javascript"
    }
   },
   "outputs": [
    {
     "name": "stderr",
     "output_type": "stream",
     "text": [
      "UsageError: Cell magic `%%` not found.\n"
     ]
    }
   ],
   "source": [
    "%% js\n",
    "\n",
    "let string1 = \"Hello\"\n",
    "let string2 = \"everyone\"\n",
    "let combination = string1 + \" \" + string2; // empty quotes for a space\n",
    "console.log(combination); // prints Hello everyone"
   ]
  }
 ],
 "metadata": {
  "kernelspec": {
   "display_name": "venv",
   "language": "python",
   "name": "python3"
  },
  "language_info": {
   "codemirror_mode": {
    "name": "ipython",
    "version": 3
   },
   "file_extension": ".py",
   "mimetype": "text/x-python",
   "name": "python",
   "nbconvert_exporter": "python",
   "pygments_lexer": "ipython3",
   "version": "3.12.3"
  }
 },
 "nbformat": 4,
 "nbformat_minor": 2
}
