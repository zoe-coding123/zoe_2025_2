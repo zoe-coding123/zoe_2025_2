{
 "cells": [
  {
   "cell_type": "raw",
   "metadata": {},
   "source": [
    "---\n",
    "toc: true\n",
    "layout: post\n",
    "title: Data Operators\n",
    "description: A review on some of the different operators.\n",
    "categories: [College Articulation Blogs]\n",
    "author: Zoe Chow\n",
    "---"
   ]
  },
  {
   "cell_type": "markdown",
   "metadata": {},
   "source": [
    "# Operators\n",
    "\n",
    "Operators are symbols that perform actions on operands, which are values or variables. These allow you to edit data types."
   ]
  },
  {
   "cell_type": "markdown",
   "metadata": {},
   "source": [
    "## Mathematical Operators\n",
    "\n",
    "Mathematical operators allow you to perform arithmetic operations with data values.\n",
    "\n",
    "There are your conventional math operations\n",
    "\n",
    "#### Addition\n",
    "```js\n",
    "let sum = 1 + 2; // sum is 3\n",
    "```\n",
    "#### Subtraction\n",
    "```js\n",
    "let difference = 2 - 1; // difference is 1\n",
    "```\n",
    "#### Multiplication\n",
    "```js\n",
    "let product = 2 * 4; // product is 8\n",
    "```\n",
    "#### Division\n",
    "```js\n",
    "let quotient = 6 / 3; // quotient is 2\n",
    "```\n",
    "Then there are some others\n",
    "\n",
    "#### Modulus\n",
    "This operator gives you the remainder of the division between two operands.\n",
    "```js\n",
    "let remainder = 5 / 2; // remainder is 1\n",
    "```\n",
    "#### Exponentation\n",
    "This operator raises the first operand to the power of the second.\n",
    "```js\n",
    "let power = 2 ** 4; // power is 16\n",
    "```\n",
    "#### Increment\n",
    "This operator increases the value of the operand by 1.\n",
    "```js\n",
    "let value = 0;\n",
    "value++; // value is now 1\n",
    "```\n",
    "#### Decrement\n",
    "This operator decreases the value of the operand by 1.\n",
    "```js\n",
    "let value = 10;\n",
    "value--; // value is now 9\n",
    "```\n",
    "\n"
   ]
  },
  {
   "cell_type": "markdown",
   "metadata": {},
   "source": [
    "Here is an example of some of them in code."
   ]
  },
  {
   "cell_type": "code",
   "execution_count": null,
   "metadata": {
    "vscode": {
     "languageId": "javascript"
    }
   },
   "outputs": [],
   "source": [
    "%% js\n",
    "\n",
    "// additional ice for background\n",
    "    const image_src_icesheet = path + \"/images/gamify/icesheet.png\";\n",
    "    const image_data_icesheet = {\n",
    "      name: 'icesheet',\n",
    "      src: image_src_icesheet,\n",
    "      pixels: {height: 70, width: 107},\n",
    "      INIT_POSITION: { x: (width * 8 / 9), y: (height * 11 / 20) }, // multiplication\n",
    "      SCALE_FACTOR: 5\n",
    "    };"
   ]
  },
  {
   "cell_type": "markdown",
   "metadata": {},
   "source": [
    "## String Operators\n",
    "\n",
    "String operators are able to manipulate different strings.\n",
    "\n",
    "#### Concatenation\n",
    "The concatentation operator (+) can combine strings."
   ]
  },
  {
   "cell_type": "code",
   "execution_count": 14,
   "metadata": {
    "vscode": {
     "languageId": "javascript"
    }
   },
   "outputs": [
    {
     "data": {
      "application/javascript": "\nlet string1 = \"Hello\";\nlet string2 = \"everyone\";\nlet combination = string1 + \" \" + string2; // empty quotes for a space\nconsole.log(combination); // prints Hello everyone\n",
      "text/plain": [
       "<IPython.core.display.Javascript object>"
      ]
     },
     "metadata": {},
     "output_type": "display_data"
    }
   ],
   "source": [
    "%%javascript\n",
    "\n",
    "let string1 = \"Hello\";\n",
    "let string2 = \"everyone\";\n",
    "let combination = string1 + \" \" + string2; // empty quotes for a space\n",
    "console.log(combination); // prints Hello everyone"
   ]
  },
  {
   "cell_type": "markdown",
   "metadata": {},
   "source": [
    "#### Template Literals\n",
    "These use backticks (`) to be able to directly insert variables into a string by using ${variable name}."
   ]
  },
  {
   "cell_type": "code",
   "execution_count": 17,
   "metadata": {
    "vscode": {
     "languageId": "javascript"
    }
   },
   "outputs": [
    {
     "data": {
      "application/javascript": "\nlet variable = \"user\"\nlet greeting = `Hello ${variable}`;\nconsole.log(greeting);\n",
      "text/plain": [
       "<IPython.core.display.Javascript object>"
      ]
     },
     "metadata": {},
     "output_type": "display_data"
    }
   ],
   "source": [
    "%%javascript\n",
    "\n",
    "let variable = \"user\"\n",
    "let greeting = `Hello ${variable}`;\n",
    "console.log(greeting);"
   ]
  },
  {
   "cell_type": "markdown",
   "metadata": {},
   "source": [
    "## Boolean Expressions\n",
    "\n",
    "Boolean expressions are expressions that are either true or false. These can be essential in conditionals and loops.\n",
    "\n",
    "Here is an example of some below."
   ]
  },
  {
   "cell_type": "code",
   "execution_count": null,
   "metadata": {
    "vscode": {
     "languageId": "javascript"
    }
   },
   "outputs": [],
   "source": [
    "%%javascript\n",
    "\n",
    "loadLevel: function(targetLevelIndex = null) {\n",
    "    console.log('Entering loadLevel method')\n",
    "    // If targetLevelIndex is not empty/exists, then targetLevelIndex is set to currentLevelIndex\n",
    "    const levelIndex = targetLevelIndex !== null ? targetLevelIndex : this.currentLevelIndex; // strict inequality\n",
    "    \n",
    "    // Greater than or equal to\n",
    "    // If levelIndex is greater than or equal to the length of levelClasses, run stopTimer() and then return\n",
    "    if (levelIndex >= this.levelClasses.length) {\n",
    "        this.stopTimer();\n",
    "        return;\n",
    "    }\n",
    "    GameEnv.continueLevel = true;\n",
    "    GameEnv.gameObjects = [];\n",
    "    this.currentPass = 0;\n",
    "    \n",
    "    const LevelClass = this.levelClasses[levelIndex];\n",
    "    const levelInstance = new LevelClass(this.path);\n",
    "    \n",
    "    // console.log('Created levelInstance:', levelInstance);\n",
    "\n",
    "    GameEnv.currentLevel = levelInstance;\n",
    "    this.loadLevelObjects(levelInstance);\n",
    "\n",
    "    this.transitionNPCS = [];\n",
    "    this.transitionNPCS = levelInstance.transitionNPCS || [];\n",
    "    console.log('Updated transitionNPCS in loadLevel:', this.transitionNPCS);\n",
    "\n",
    "    // strict equality\n",
    "    // If targetLevelIndex is empty then increment currentLevelIndex\n",
    "    if (targetLevelIndex === null) {\n",
    "        this.currentLevelIndex++;\n",
    "    }\n",
    "}"
   ]
  },
  {
   "cell_type": "markdown",
   "metadata": {},
   "source": [
    "Comparison Operators\n",
    "\n",
    "Equal to : ==\n"
   ]
  }
 ],
 "metadata": {
  "kernelspec": {
   "display_name": "venv",
   "language": "python",
   "name": "python3"
  },
  "language_info": {
   "codemirror_mode": {
    "name": "ipython",
    "version": 3
   },
   "file_extension": ".py",
   "mimetype": "text/x-python",
   "name": "python",
   "nbconvert_exporter": "python",
   "pygments_lexer": "ipython3",
   "version": "3.12.3"
  }
 },
 "nbformat": 4,
 "nbformat_minor": 2
}
