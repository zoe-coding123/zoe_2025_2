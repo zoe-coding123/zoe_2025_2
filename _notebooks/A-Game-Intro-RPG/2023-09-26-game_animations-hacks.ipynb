{
 "cells": [
  {
   "cell_type": "raw",
   "metadata": {
    "vscode": {
     "languageId": "raw"
    }
   },
   "source": [
    "---\n",
    "toc: true\n",
    "layout: post\n",
    "title: Hacks \n",
    "description: This project focuses on integrating the Turtle-Water RPG starter into a larger game development project.\n",
    "menu: nav/game_intro.html\n",
    "permalink: /game/intro/hacks\n",
    "courses: { csse: {week: 5} }\n",
    "type: ccc\n",
    "---"
   ]
  },
  {
   "cell_type": "markdown",
   "metadata": {},
   "source": [
    "## Ideation Hacks \n",
    "\n",
    "The objective of this project is to integrate the Turtle-Water RPG starter into a larger game development project, focusing on ideation, coding, and animation techniques."
   ]
  },
  {
   "cell_type": "markdown",
   "metadata": {},
   "source": [
    "### Integration\n",
    "\n",
    "To successfully integrate the Turtle-Water RPG starter into your repository, follow the instructions in the Anatomy section.\n",
    "\n",
    "1. **Make an Issue**: Create an issue in your repository to track the integration process.\n",
    "2. **Capture Key Commits**: Document links to your key commits that show the progress of the integration.\n",
    "3. **Completed GitHub Action Link**: Provide a link to the completed GitHub action that runs.\n",
    "4. **Screenshot**: Capture a screenshot that includes the link to your repository and the running Turtle-Water RPG.  Be sure to have your name on any screen captures."
   ]
  },
  {
   "cell_type": "markdown",
   "metadata": {},
   "source": [
    "### Build a Blog(s) to Summarize the Lesson\n",
    "\n",
    "Capture these items into a personal blog or blog(s):\n",
    "\n",
    "1. **Project Setup Review**: Create a blog that helps you set up a project. For Kasm users, include steps to activate tools and start a project.\n",
    "2. **Integration Issue Link**: Provide a link to your issue that highlights key files and changes needed to get the game working in your repo (refer to the Integration hack above).\n",
    "3. **Describe files in Project**: Define key files in this project.  Use the popcorn hack.\n",
    "3. **Class Definition**: Define key parts of the `Player.js` class.  Use the popcorn hack.\n",
    "4. **Personalization**: Capture and show JSON objects and assets you changed to personalize the RPG game. Include a new background and a new sprite."
   ]
  },
  {
   "cell_type": "markdown",
   "metadata": {},
   "source": [
    "## Ideation Hacks\n",
    "\n",
    "To learn how to code in Project-Based Learning (PBL), you need to ideate and build a plan. Let's start that process."
   ]
  },
  {
   "cell_type": "markdown",
   "metadata": {},
   "source": [
    "### Home Page\n",
    "\n",
    "At this point, you should have a Snake Game and this RPG Game to add to your blog. Start organizing your `index.md` to capture your key hacks so far. Create links and descriptions in your `index.md` file to showcase your projects and progress. Be sure to update this throughout the trimester.\n",
    "\n",
    "- **Form a strategy for `index.md`**: Plan how you will organize and present your content.\n",
    "- **Capture key projects you want to showcase**: Highlight the most important projects you have worked on.\n",
    "- **Add visuals and text to make it interesting**: Use images and descriptive text to engage your audience."
   ]
  },
  {
   "cell_type": "markdown",
   "metadata": {},
   "source": [
    "### Ideas Page\n",
    "\n",
    "Use the ideas page to describe the elements you want to implement in your coding projects. This can be general but should be complemented by the RPG game. If you don't have any ideas from the Snake Game, RPG Game, or Platformer Game at this point, it will be challenging to be creative in the future.\n",
    "\n",
    "- **Form a strategy for `ideas.md`**: Plan how you will organize and present your ideas.\n",
    "- **Start Some Ideas**: Ensure you have begun documenting some ideas.\n",
    "- **Add RPG Game Ideas**: Include specific ideas for the RPG game.\n",
    "- **Add Visuals and Text**: Use images and descriptive text to make your ideas understandable.\n",
    "- **Link to Issues**: Link to issues that capture the history or work that supports your ideas.\n",
    "- **Soft Skills Section**: Create a section that links to your \"soft skills\" and use it to show growth toward your ideas."
   ]
  },
  {
   "cell_type": "markdown",
   "metadata": {
    "vscode": {
     "languageId": "raw"
    }
   },
   "source": [
    "### RPG Game Ideas Hack\n",
    "\n",
    "Here are some ideas for modifying the Turtle-Water RPG starter to create a more engaging role-playing game (RPG).\n",
    "\n",
    "- [ ] **Create a Player**: Design a player character with unique attributes and abilities.\n",
    "- [ ] **Create a Monster**: Add various monsters with different behaviors and difficulty levels.\n",
    "- [ ] **Create a Weapon**: Implement different types of weapons that the player can use.\n",
    "- [ ] **Create a Spell**: Introduce spells with various effects that the player can cast.\n",
    "- [ ] **Create a Map**: Develop a detailed map for the player to explore.\n",
    "- [ ] **Create a Quest**: Design quests that provide objectives and rewards for the player.\n",
    "- [ ] **Add NPCs**: Introduce non-player characters (NPCs) that the player can interact with.\n",
    "- [ ] **Implement Inventory System**: Create an inventory system for managing items and equipment.\n",
    "- [ ] **Enhance Graphics**: Improve the visual elements of the game, such as sprites and backgrounds.\n",
    "- [ ] **Add Sound Effects**: Incorporate sound effects and background music to enhance the gaming experience."
   ]
  },
  {
   "cell_type": "markdown",
   "metadata": {},
   "source": [
    "### Ideation/Early Coding Hack\n",
    "\n",
    "After making a preliminary plan, start editing the Turtle-Water world to create your own unique world. It is expected that you will get stuck.\n",
    "\n",
    "- **Make Code Changes**: Implement code changes in your own blog/repo (e.g., change the background and player).\n",
    "- **Beyond JSON Changes**: Try to make a code change beyond just modifying JSON objects.\n",
    "- **Create a Monster**: Could you create a monster? Is it similar to an apple in Snake? Is it an NPC?\n",
    "- **Collision Detection**: Do you need collision detection in your game?\n",
    "- **Map and Boundaries**: Is a map an image? How do you set up boundaries?\n",
    "- **Experimentation**: What experiments can you try on your own based on what you know?\n",
    "- **Collaboration**: Can you team up with a partner or your table group to work on these elements together?"
   ]
  },
  {
   "cell_type": "markdown",
   "metadata": {},
   "source": [
    "### Collaboration Hack\n",
    "\n",
    "Work together as a table group to complete the following tasks:\n",
    "\n",
    "- **Capture Screen Designs and Requirements**: Create and document a few screen designs and requirements for your RPG game.\n",
    "- **Share Code and Solicit Ideas**: Share your code with the group chat and ask for ideas on how to improve or change it. For example, how can you make an NPC out of the Player class?\n",
    "- **Interact with GitHub Copilot**: Use GitHub Copilot to get suggestions and ideas for your code. Ask Copilot for help with specific coding challenges or for generating new features.\n",
    "- **Advocate for Changes or Ideas**: Advocate for your changes or ideas by asking yourself, your table group, your TA, or your teacher some of the following questions to transition from basic functionality to your own creative ideas:\n",
    "  - How can we enhance the player experience?\n",
    "  - What new features can we add to make the game more engaging?"
   ]
  },
  {
   "cell_type": "markdown",
   "metadata": {},
   "source": [
    "## Hack Presentation\n",
    "\n",
    "Show progress on the elements above at the end of ideation week. Follow this outline for your live presentation and summary:\n",
    "\n",
    "### Presentation Outline\n",
    "\n",
    "1. **Introduction**\n",
    "   - Briefly introduce yourself and your project.\n",
    "   - Provide an overview of what you will be presenting.\n",
    "\n",
    "2. **Blog Walkthrough**\n",
    "   - **Home Page**: Start with your blog's home page. Highlight key sections and how they are organized.\n",
    "   - **Ideas Page**: Navigate to your ideas page. Discuss the ideas you have documented and how they relate to your project.\n",
    "   - **Issues**: Show the issues you have created. Explain how these issues track your progress and any challenges you have faced.\n",
    "\n",
    "3. **Code Demo**\n",
    "   - **Current Progress**: Demonstrate the current state of your project. Show key features and functionalities you have implemented.\n",
    "   - **Code Walkthrough**: Highlight important parts of your code. Explain how specific pieces of code work and any interesting challenges you overcame.\n",
    "\n",
    "4. **Next Steps and Needs**\n",
    "   - **Future Plans**: Discuss the next steps you plan to take in your project. What features or improvements are you planning to implement?\n",
    "   - **Help Needed**: Mention any areas where you need assistance or feedback. What challenges are you currently facing, and how can the Teacher or TA help?\n",
    "\n",
    "### Tips for a Successful Presentation\n",
    "\n",
    "- **Practice**: Rehearse your presentation with other pairs. Use utterances to capture feedback.\n",
    "- **Clarity**: Speak clearly and at a moderate pace. Ensure your slides or demo are easy to follow.\n",
    "- **Confidence**: Present with confidence. Believe in the work you have done and the progress you have made."
   ]
  }
 ],
 "metadata": {
  "language_info": {
   "name": "python"
  }
 },
 "nbformat": 4,
 "nbformat_minor": 2
}
